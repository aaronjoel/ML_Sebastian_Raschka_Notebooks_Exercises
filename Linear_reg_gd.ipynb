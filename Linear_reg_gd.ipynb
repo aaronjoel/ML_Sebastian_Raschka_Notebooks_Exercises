{
  "nbformat": 4,
  "nbformat_minor": 0,
  "metadata": {
    "colab": {
      "provenance": [],
      "authorship_tag": "ABX9TyNV/5Rwvzel5P9jkjoPt/wf",
      "include_colab_link": true
    },
    "kernelspec": {
      "name": "python3",
      "display_name": "Python 3"
    },
    "language_info": {
      "name": "python"
    }
  },
  "cells": [
    {
      "cell_type": "markdown",
      "metadata": {
        "id": "view-in-github",
        "colab_type": "text"
      },
      "source": [
        "<a href=\"https://colab.research.google.com/github/aaronjoel/ML_Sebastian_Raschka_Notebooks_Exercises/blob/main/Linear_reg_gd.ipynb\" target=\"_parent\"><img src=\"https://colab.research.google.com/assets/colab-badge.svg\" alt=\"Open In Colab\"/></a>"
      ]
    },
    {
      "cell_type": "code",
      "source": [
        "!pip install watermark --quiet"
      ],
      "metadata": {
        "id": "bP36Dtl9ulf-"
      },
      "execution_count": 3,
      "outputs": []
    },
    {
      "cell_type": "code",
      "execution_count": 6,
      "metadata": {
        "colab": {
          "base_uri": "https://localhost:8080/"
        },
        "id": "rwBYzA62t7N1",
        "outputId": "e9f944ff-c73c-49da-d738-d2faa4195192"
      },
      "outputs": [
        {
          "output_type": "stream",
          "name": "stdout",
          "text": [
            "Author: Sebastian Raschka\n",
            "\n",
            "Python implementation: CPython\n",
            "Python version       : 3.10.12\n",
            "IPython version      : 7.34.0\n",
            "\n",
            "torch     : 2.3.0+cu121\n",
            "pandas    : 2.0.3\n",
            "matplotlib: 3.7.1\n",
            "\n"
          ]
        }
      ],
      "source": [
        "%reload_ext watermark\n",
        "%watermark -a 'Sebastian Raschka' -v -p torch,pandas,matplotlib"
      ]
    },
    {
      "cell_type": "markdown",
      "source": [
        "# Linear Regression with Gradient Descent\n",
        "\n",
        "Note that linear regression and Adaline are very similar. The only difference is that we apply a threshold function for converting the outputs from continuous targets for predictions. The derivative and training procedure are identical to Adaline though."
      ],
      "metadata": {
        "id": "QeTz7JJKu5wH"
      }
    },
    {
      "cell_type": "code",
      "source": [
        "import pandas as pd\n",
        "import matplotlib.pyplot as plt\n",
        "import torch\n",
        "%matplotlib inline"
      ],
      "metadata": {
        "id": "xdxLG81luPjS"
      },
      "execution_count": 7,
      "outputs": []
    },
    {
      "cell_type": "markdown",
      "source": [
        "## Load & Prepare a Toy Dataset"
      ],
      "metadata": {
        "id": "HYAaapc1wjc7"
      }
    },
    {
      "cell_type": "code",
      "source": [
        "df = pd.read_csv('https://raw.githubusercontent.com/rasbt/stat453-deep-learning-ss21/main/L05/code/datasets/linreg-data.csv', index_col=0)\n",
        "df.head()"
      ],
      "metadata": {
        "colab": {
          "base_uri": "https://localhost:8080/",
          "height": 206
        },
        "id": "8NtvP0kcwic_",
        "outputId": "40eea132-81e5-4c97-92d0-4f4b5552e37a"
      },
      "execution_count": 8,
      "outputs": [
        {
          "output_type": "execute_result",
          "data": {
            "text/plain": [
              "         x1        x2          y\n",
              "0 -2.201441 -0.468864 -30.355617\n",
              "1 -0.291041  0.777277  25.560334\n",
              "2 -0.327755  0.040071  32.797526\n",
              "3 -0.075650  1.821915  72.734577\n",
              "4 -0.862493 -0.467493 -48.072356"
            ],
            "text/html": [
              "\n",
              "  <div id=\"df-733cc9c2-cda3-49cd-97af-ca356ec808cc\" class=\"colab-df-container\">\n",
              "    <div>\n",
              "<style scoped>\n",
              "    .dataframe tbody tr th:only-of-type {\n",
              "        vertical-align: middle;\n",
              "    }\n",
              "\n",
              "    .dataframe tbody tr th {\n",
              "        vertical-align: top;\n",
              "    }\n",
              "\n",
              "    .dataframe thead th {\n",
              "        text-align: right;\n",
              "    }\n",
              "</style>\n",
              "<table border=\"1\" class=\"dataframe\">\n",
              "  <thead>\n",
              "    <tr style=\"text-align: right;\">\n",
              "      <th></th>\n",
              "      <th>x1</th>\n",
              "      <th>x2</th>\n",
              "      <th>y</th>\n",
              "    </tr>\n",
              "  </thead>\n",
              "  <tbody>\n",
              "    <tr>\n",
              "      <th>0</th>\n",
              "      <td>-2.201441</td>\n",
              "      <td>-0.468864</td>\n",
              "      <td>-30.355617</td>\n",
              "    </tr>\n",
              "    <tr>\n",
              "      <th>1</th>\n",
              "      <td>-0.291041</td>\n",
              "      <td>0.777277</td>\n",
              "      <td>25.560334</td>\n",
              "    </tr>\n",
              "    <tr>\n",
              "      <th>2</th>\n",
              "      <td>-0.327755</td>\n",
              "      <td>0.040071</td>\n",
              "      <td>32.797526</td>\n",
              "    </tr>\n",
              "    <tr>\n",
              "      <th>3</th>\n",
              "      <td>-0.075650</td>\n",
              "      <td>1.821915</td>\n",
              "      <td>72.734577</td>\n",
              "    </tr>\n",
              "    <tr>\n",
              "      <th>4</th>\n",
              "      <td>-0.862493</td>\n",
              "      <td>-0.467493</td>\n",
              "      <td>-48.072356</td>\n",
              "    </tr>\n",
              "  </tbody>\n",
              "</table>\n",
              "</div>\n",
              "    <div class=\"colab-df-buttons\">\n",
              "\n",
              "  <div class=\"colab-df-container\">\n",
              "    <button class=\"colab-df-convert\" onclick=\"convertToInteractive('df-733cc9c2-cda3-49cd-97af-ca356ec808cc')\"\n",
              "            title=\"Convert this dataframe to an interactive table.\"\n",
              "            style=\"display:none;\">\n",
              "\n",
              "  <svg xmlns=\"http://www.w3.org/2000/svg\" height=\"24px\" viewBox=\"0 -960 960 960\">\n",
              "    <path d=\"M120-120v-720h720v720H120Zm60-500h600v-160H180v160Zm220 220h160v-160H400v160Zm0 220h160v-160H400v160ZM180-400h160v-160H180v160Zm440 0h160v-160H620v160ZM180-180h160v-160H180v160Zm440 0h160v-160H620v160Z\"/>\n",
              "  </svg>\n",
              "    </button>\n",
              "\n",
              "  <style>\n",
              "    .colab-df-container {\n",
              "      display:flex;\n",
              "      gap: 12px;\n",
              "    }\n",
              "\n",
              "    .colab-df-convert {\n",
              "      background-color: #E8F0FE;\n",
              "      border: none;\n",
              "      border-radius: 50%;\n",
              "      cursor: pointer;\n",
              "      display: none;\n",
              "      fill: #1967D2;\n",
              "      height: 32px;\n",
              "      padding: 0 0 0 0;\n",
              "      width: 32px;\n",
              "    }\n",
              "\n",
              "    .colab-df-convert:hover {\n",
              "      background-color: #E2EBFA;\n",
              "      box-shadow: 0px 1px 2px rgba(60, 64, 67, 0.3), 0px 1px 3px 1px rgba(60, 64, 67, 0.15);\n",
              "      fill: #174EA6;\n",
              "    }\n",
              "\n",
              "    .colab-df-buttons div {\n",
              "      margin-bottom: 4px;\n",
              "    }\n",
              "\n",
              "    [theme=dark] .colab-df-convert {\n",
              "      background-color: #3B4455;\n",
              "      fill: #D2E3FC;\n",
              "    }\n",
              "\n",
              "    [theme=dark] .colab-df-convert:hover {\n",
              "      background-color: #434B5C;\n",
              "      box-shadow: 0px 1px 3px 1px rgba(0, 0, 0, 0.15);\n",
              "      filter: drop-shadow(0px 1px 2px rgba(0, 0, 0, 0.3));\n",
              "      fill: #FFFFFF;\n",
              "    }\n",
              "  </style>\n",
              "\n",
              "    <script>\n",
              "      const buttonEl =\n",
              "        document.querySelector('#df-733cc9c2-cda3-49cd-97af-ca356ec808cc button.colab-df-convert');\n",
              "      buttonEl.style.display =\n",
              "        google.colab.kernel.accessAllowed ? 'block' : 'none';\n",
              "\n",
              "      async function convertToInteractive(key) {\n",
              "        const element = document.querySelector('#df-733cc9c2-cda3-49cd-97af-ca356ec808cc');\n",
              "        const dataTable =\n",
              "          await google.colab.kernel.invokeFunction('convertToInteractive',\n",
              "                                                    [key], {});\n",
              "        if (!dataTable) return;\n",
              "\n",
              "        const docLinkHtml = 'Like what you see? Visit the ' +\n",
              "          '<a target=\"_blank\" href=https://colab.research.google.com/notebooks/data_table.ipynb>data table notebook</a>'\n",
              "          + ' to learn more about interactive tables.';\n",
              "        element.innerHTML = '';\n",
              "        dataTable['output_type'] = 'display_data';\n",
              "        await google.colab.output.renderOutput(dataTable, element);\n",
              "        const docLink = document.createElement('div');\n",
              "        docLink.innerHTML = docLinkHtml;\n",
              "        element.appendChild(docLink);\n",
              "      }\n",
              "    </script>\n",
              "  </div>\n",
              "\n",
              "\n",
              "<div id=\"df-c76dd64a-b190-4dfd-b5fb-bde26eac2f97\">\n",
              "  <button class=\"colab-df-quickchart\" onclick=\"quickchart('df-c76dd64a-b190-4dfd-b5fb-bde26eac2f97')\"\n",
              "            title=\"Suggest charts\"\n",
              "            style=\"display:none;\">\n",
              "\n",
              "<svg xmlns=\"http://www.w3.org/2000/svg\" height=\"24px\"viewBox=\"0 0 24 24\"\n",
              "     width=\"24px\">\n",
              "    <g>\n",
              "        <path d=\"M19 3H5c-1.1 0-2 .9-2 2v14c0 1.1.9 2 2 2h14c1.1 0 2-.9 2-2V5c0-1.1-.9-2-2-2zM9 17H7v-7h2v7zm4 0h-2V7h2v10zm4 0h-2v-4h2v4z\"/>\n",
              "    </g>\n",
              "</svg>\n",
              "  </button>\n",
              "\n",
              "<style>\n",
              "  .colab-df-quickchart {\n",
              "      --bg-color: #E8F0FE;\n",
              "      --fill-color: #1967D2;\n",
              "      --hover-bg-color: #E2EBFA;\n",
              "      --hover-fill-color: #174EA6;\n",
              "      --disabled-fill-color: #AAA;\n",
              "      --disabled-bg-color: #DDD;\n",
              "  }\n",
              "\n",
              "  [theme=dark] .colab-df-quickchart {\n",
              "      --bg-color: #3B4455;\n",
              "      --fill-color: #D2E3FC;\n",
              "      --hover-bg-color: #434B5C;\n",
              "      --hover-fill-color: #FFFFFF;\n",
              "      --disabled-bg-color: #3B4455;\n",
              "      --disabled-fill-color: #666;\n",
              "  }\n",
              "\n",
              "  .colab-df-quickchart {\n",
              "    background-color: var(--bg-color);\n",
              "    border: none;\n",
              "    border-radius: 50%;\n",
              "    cursor: pointer;\n",
              "    display: none;\n",
              "    fill: var(--fill-color);\n",
              "    height: 32px;\n",
              "    padding: 0;\n",
              "    width: 32px;\n",
              "  }\n",
              "\n",
              "  .colab-df-quickchart:hover {\n",
              "    background-color: var(--hover-bg-color);\n",
              "    box-shadow: 0 1px 2px rgba(60, 64, 67, 0.3), 0 1px 3px 1px rgba(60, 64, 67, 0.15);\n",
              "    fill: var(--button-hover-fill-color);\n",
              "  }\n",
              "\n",
              "  .colab-df-quickchart-complete:disabled,\n",
              "  .colab-df-quickchart-complete:disabled:hover {\n",
              "    background-color: var(--disabled-bg-color);\n",
              "    fill: var(--disabled-fill-color);\n",
              "    box-shadow: none;\n",
              "  }\n",
              "\n",
              "  .colab-df-spinner {\n",
              "    border: 2px solid var(--fill-color);\n",
              "    border-color: transparent;\n",
              "    border-bottom-color: var(--fill-color);\n",
              "    animation:\n",
              "      spin 1s steps(1) infinite;\n",
              "  }\n",
              "\n",
              "  @keyframes spin {\n",
              "    0% {\n",
              "      border-color: transparent;\n",
              "      border-bottom-color: var(--fill-color);\n",
              "      border-left-color: var(--fill-color);\n",
              "    }\n",
              "    20% {\n",
              "      border-color: transparent;\n",
              "      border-left-color: var(--fill-color);\n",
              "      border-top-color: var(--fill-color);\n",
              "    }\n",
              "    30% {\n",
              "      border-color: transparent;\n",
              "      border-left-color: var(--fill-color);\n",
              "      border-top-color: var(--fill-color);\n",
              "      border-right-color: var(--fill-color);\n",
              "    }\n",
              "    40% {\n",
              "      border-color: transparent;\n",
              "      border-right-color: var(--fill-color);\n",
              "      border-top-color: var(--fill-color);\n",
              "    }\n",
              "    60% {\n",
              "      border-color: transparent;\n",
              "      border-right-color: var(--fill-color);\n",
              "    }\n",
              "    80% {\n",
              "      border-color: transparent;\n",
              "      border-right-color: var(--fill-color);\n",
              "      border-bottom-color: var(--fill-color);\n",
              "    }\n",
              "    90% {\n",
              "      border-color: transparent;\n",
              "      border-bottom-color: var(--fill-color);\n",
              "    }\n",
              "  }\n",
              "</style>\n",
              "\n",
              "  <script>\n",
              "    async function quickchart(key) {\n",
              "      const quickchartButtonEl =\n",
              "        document.querySelector('#' + key + ' button');\n",
              "      quickchartButtonEl.disabled = true;  // To prevent multiple clicks.\n",
              "      quickchartButtonEl.classList.add('colab-df-spinner');\n",
              "      try {\n",
              "        const charts = await google.colab.kernel.invokeFunction(\n",
              "            'suggestCharts', [key], {});\n",
              "      } catch (error) {\n",
              "        console.error('Error during call to suggestCharts:', error);\n",
              "      }\n",
              "      quickchartButtonEl.classList.remove('colab-df-spinner');\n",
              "      quickchartButtonEl.classList.add('colab-df-quickchart-complete');\n",
              "    }\n",
              "    (() => {\n",
              "      let quickchartButtonEl =\n",
              "        document.querySelector('#df-c76dd64a-b190-4dfd-b5fb-bde26eac2f97 button');\n",
              "      quickchartButtonEl.style.display =\n",
              "        google.colab.kernel.accessAllowed ? 'block' : 'none';\n",
              "    })();\n",
              "  </script>\n",
              "</div>\n",
              "\n",
              "    </div>\n",
              "  </div>\n"
            ],
            "application/vnd.google.colaboratory.intrinsic+json": {
              "type": "dataframe",
              "variable_name": "df",
              "summary": "{\n  \"name\": \"df\",\n  \"rows\": 1000,\n  \"fields\": [\n    {\n      \"column\": \"x1\",\n      \"properties\": {\n        \"dtype\": \"number\",\n        \"std\": 0.982226788347323,\n        \"min\": -3.046143055,\n        \"max\": 2.759355114,\n        \"num_unique_values\": 1000,\n        \"samples\": [\n          0.370055888,\n          1.171041065,\n          2.642935721\n        ],\n        \"semantic_type\": \"\",\n        \"description\": \"\"\n      }\n    },\n    {\n      \"column\": \"x2\",\n      \"properties\": {\n        \"dtype\": \"number\",\n        \"std\": 0.9748727784095248,\n        \"min\": -2.99461286,\n        \"max\": 3.170974773,\n        \"num_unique_values\": 1000,\n        \"samples\": [\n          -0.399449029,\n          0.389093969,\n          -0.91965069\n        ],\n        \"semantic_type\": \"\",\n        \"description\": \"\"\n      }\n    },\n    {\n      \"column\": \"y\",\n      \"properties\": {\n        \"dtype\": \"number\",\n        \"std\": 43.63621377102843,\n        \"min\": -143.7168791,\n        \"max\": 153.9625543,\n        \"num_unique_values\": 1000,\n        \"samples\": [\n          -30.05383626,\n          25.30800399,\n          -26.9002286\n        ],\n        \"semantic_type\": \"\",\n        \"description\": \"\"\n      }\n    }\n  ]\n}"
            }
          },
          "metadata": {},
          "execution_count": 8
        }
      ]
    },
    {
      "cell_type": "code",
      "source": [
        "df.tail()"
      ],
      "metadata": {
        "colab": {
          "base_uri": "https://localhost:8080/",
          "height": 206
        },
        "id": "N-OJ-MEew0p8",
        "outputId": "ce0a0f4d-f898-4a52-eba7-04c765083e4c"
      },
      "execution_count": 9,
      "outputs": [
        {
          "output_type": "execute_result",
          "data": {
            "text/plain": [
              "           x1        x2          y\n",
              "995 -0.942094 -0.835856 -22.324428\n",
              "996  1.222445 -0.403177 -52.121493\n",
              "997 -0.112466 -1.688230 -57.043196\n",
              "998 -0.403459 -0.412272 -27.701833\n",
              "999  0.021351 -0.499017  -9.804714"
            ],
            "text/html": [
              "\n",
              "  <div id=\"df-601f8756-6fa5-43ca-b44d-daf1e76db533\" class=\"colab-df-container\">\n",
              "    <div>\n",
              "<style scoped>\n",
              "    .dataframe tbody tr th:only-of-type {\n",
              "        vertical-align: middle;\n",
              "    }\n",
              "\n",
              "    .dataframe tbody tr th {\n",
              "        vertical-align: top;\n",
              "    }\n",
              "\n",
              "    .dataframe thead th {\n",
              "        text-align: right;\n",
              "    }\n",
              "</style>\n",
              "<table border=\"1\" class=\"dataframe\">\n",
              "  <thead>\n",
              "    <tr style=\"text-align: right;\">\n",
              "      <th></th>\n",
              "      <th>x1</th>\n",
              "      <th>x2</th>\n",
              "      <th>y</th>\n",
              "    </tr>\n",
              "  </thead>\n",
              "  <tbody>\n",
              "    <tr>\n",
              "      <th>995</th>\n",
              "      <td>-0.942094</td>\n",
              "      <td>-0.835856</td>\n",
              "      <td>-22.324428</td>\n",
              "    </tr>\n",
              "    <tr>\n",
              "      <th>996</th>\n",
              "      <td>1.222445</td>\n",
              "      <td>-0.403177</td>\n",
              "      <td>-52.121493</td>\n",
              "    </tr>\n",
              "    <tr>\n",
              "      <th>997</th>\n",
              "      <td>-0.112466</td>\n",
              "      <td>-1.688230</td>\n",
              "      <td>-57.043196</td>\n",
              "    </tr>\n",
              "    <tr>\n",
              "      <th>998</th>\n",
              "      <td>-0.403459</td>\n",
              "      <td>-0.412272</td>\n",
              "      <td>-27.701833</td>\n",
              "    </tr>\n",
              "    <tr>\n",
              "      <th>999</th>\n",
              "      <td>0.021351</td>\n",
              "      <td>-0.499017</td>\n",
              "      <td>-9.804714</td>\n",
              "    </tr>\n",
              "  </tbody>\n",
              "</table>\n",
              "</div>\n",
              "    <div class=\"colab-df-buttons\">\n",
              "\n",
              "  <div class=\"colab-df-container\">\n",
              "    <button class=\"colab-df-convert\" onclick=\"convertToInteractive('df-601f8756-6fa5-43ca-b44d-daf1e76db533')\"\n",
              "            title=\"Convert this dataframe to an interactive table.\"\n",
              "            style=\"display:none;\">\n",
              "\n",
              "  <svg xmlns=\"http://www.w3.org/2000/svg\" height=\"24px\" viewBox=\"0 -960 960 960\">\n",
              "    <path d=\"M120-120v-720h720v720H120Zm60-500h600v-160H180v160Zm220 220h160v-160H400v160Zm0 220h160v-160H400v160ZM180-400h160v-160H180v160Zm440 0h160v-160H620v160ZM180-180h160v-160H180v160Zm440 0h160v-160H620v160Z\"/>\n",
              "  </svg>\n",
              "    </button>\n",
              "\n",
              "  <style>\n",
              "    .colab-df-container {\n",
              "      display:flex;\n",
              "      gap: 12px;\n",
              "    }\n",
              "\n",
              "    .colab-df-convert {\n",
              "      background-color: #E8F0FE;\n",
              "      border: none;\n",
              "      border-radius: 50%;\n",
              "      cursor: pointer;\n",
              "      display: none;\n",
              "      fill: #1967D2;\n",
              "      height: 32px;\n",
              "      padding: 0 0 0 0;\n",
              "      width: 32px;\n",
              "    }\n",
              "\n",
              "    .colab-df-convert:hover {\n",
              "      background-color: #E2EBFA;\n",
              "      box-shadow: 0px 1px 2px rgba(60, 64, 67, 0.3), 0px 1px 3px 1px rgba(60, 64, 67, 0.15);\n",
              "      fill: #174EA6;\n",
              "    }\n",
              "\n",
              "    .colab-df-buttons div {\n",
              "      margin-bottom: 4px;\n",
              "    }\n",
              "\n",
              "    [theme=dark] .colab-df-convert {\n",
              "      background-color: #3B4455;\n",
              "      fill: #D2E3FC;\n",
              "    }\n",
              "\n",
              "    [theme=dark] .colab-df-convert:hover {\n",
              "      background-color: #434B5C;\n",
              "      box-shadow: 0px 1px 3px 1px rgba(0, 0, 0, 0.15);\n",
              "      filter: drop-shadow(0px 1px 2px rgba(0, 0, 0, 0.3));\n",
              "      fill: #FFFFFF;\n",
              "    }\n",
              "  </style>\n",
              "\n",
              "    <script>\n",
              "      const buttonEl =\n",
              "        document.querySelector('#df-601f8756-6fa5-43ca-b44d-daf1e76db533 button.colab-df-convert');\n",
              "      buttonEl.style.display =\n",
              "        google.colab.kernel.accessAllowed ? 'block' : 'none';\n",
              "\n",
              "      async function convertToInteractive(key) {\n",
              "        const element = document.querySelector('#df-601f8756-6fa5-43ca-b44d-daf1e76db533');\n",
              "        const dataTable =\n",
              "          await google.colab.kernel.invokeFunction('convertToInteractive',\n",
              "                                                    [key], {});\n",
              "        if (!dataTable) return;\n",
              "\n",
              "        const docLinkHtml = 'Like what you see? Visit the ' +\n",
              "          '<a target=\"_blank\" href=https://colab.research.google.com/notebooks/data_table.ipynb>data table notebook</a>'\n",
              "          + ' to learn more about interactive tables.';\n",
              "        element.innerHTML = '';\n",
              "        dataTable['output_type'] = 'display_data';\n",
              "        await google.colab.output.renderOutput(dataTable, element);\n",
              "        const docLink = document.createElement('div');\n",
              "        docLink.innerHTML = docLinkHtml;\n",
              "        element.appendChild(docLink);\n",
              "      }\n",
              "    </script>\n",
              "  </div>\n",
              "\n",
              "\n",
              "<div id=\"df-d16e3eef-4a07-4cf6-9028-19248feeaf41\">\n",
              "  <button class=\"colab-df-quickchart\" onclick=\"quickchart('df-d16e3eef-4a07-4cf6-9028-19248feeaf41')\"\n",
              "            title=\"Suggest charts\"\n",
              "            style=\"display:none;\">\n",
              "\n",
              "<svg xmlns=\"http://www.w3.org/2000/svg\" height=\"24px\"viewBox=\"0 0 24 24\"\n",
              "     width=\"24px\">\n",
              "    <g>\n",
              "        <path d=\"M19 3H5c-1.1 0-2 .9-2 2v14c0 1.1.9 2 2 2h14c1.1 0 2-.9 2-2V5c0-1.1-.9-2-2-2zM9 17H7v-7h2v7zm4 0h-2V7h2v10zm4 0h-2v-4h2v4z\"/>\n",
              "    </g>\n",
              "</svg>\n",
              "  </button>\n",
              "\n",
              "<style>\n",
              "  .colab-df-quickchart {\n",
              "      --bg-color: #E8F0FE;\n",
              "      --fill-color: #1967D2;\n",
              "      --hover-bg-color: #E2EBFA;\n",
              "      --hover-fill-color: #174EA6;\n",
              "      --disabled-fill-color: #AAA;\n",
              "      --disabled-bg-color: #DDD;\n",
              "  }\n",
              "\n",
              "  [theme=dark] .colab-df-quickchart {\n",
              "      --bg-color: #3B4455;\n",
              "      --fill-color: #D2E3FC;\n",
              "      --hover-bg-color: #434B5C;\n",
              "      --hover-fill-color: #FFFFFF;\n",
              "      --disabled-bg-color: #3B4455;\n",
              "      --disabled-fill-color: #666;\n",
              "  }\n",
              "\n",
              "  .colab-df-quickchart {\n",
              "    background-color: var(--bg-color);\n",
              "    border: none;\n",
              "    border-radius: 50%;\n",
              "    cursor: pointer;\n",
              "    display: none;\n",
              "    fill: var(--fill-color);\n",
              "    height: 32px;\n",
              "    padding: 0;\n",
              "    width: 32px;\n",
              "  }\n",
              "\n",
              "  .colab-df-quickchart:hover {\n",
              "    background-color: var(--hover-bg-color);\n",
              "    box-shadow: 0 1px 2px rgba(60, 64, 67, 0.3), 0 1px 3px 1px rgba(60, 64, 67, 0.15);\n",
              "    fill: var(--button-hover-fill-color);\n",
              "  }\n",
              "\n",
              "  .colab-df-quickchart-complete:disabled,\n",
              "  .colab-df-quickchart-complete:disabled:hover {\n",
              "    background-color: var(--disabled-bg-color);\n",
              "    fill: var(--disabled-fill-color);\n",
              "    box-shadow: none;\n",
              "  }\n",
              "\n",
              "  .colab-df-spinner {\n",
              "    border: 2px solid var(--fill-color);\n",
              "    border-color: transparent;\n",
              "    border-bottom-color: var(--fill-color);\n",
              "    animation:\n",
              "      spin 1s steps(1) infinite;\n",
              "  }\n",
              "\n",
              "  @keyframes spin {\n",
              "    0% {\n",
              "      border-color: transparent;\n",
              "      border-bottom-color: var(--fill-color);\n",
              "      border-left-color: var(--fill-color);\n",
              "    }\n",
              "    20% {\n",
              "      border-color: transparent;\n",
              "      border-left-color: var(--fill-color);\n",
              "      border-top-color: var(--fill-color);\n",
              "    }\n",
              "    30% {\n",
              "      border-color: transparent;\n",
              "      border-left-color: var(--fill-color);\n",
              "      border-top-color: var(--fill-color);\n",
              "      border-right-color: var(--fill-color);\n",
              "    }\n",
              "    40% {\n",
              "      border-color: transparent;\n",
              "      border-right-color: var(--fill-color);\n",
              "      border-top-color: var(--fill-color);\n",
              "    }\n",
              "    60% {\n",
              "      border-color: transparent;\n",
              "      border-right-color: var(--fill-color);\n",
              "    }\n",
              "    80% {\n",
              "      border-color: transparent;\n",
              "      border-right-color: var(--fill-color);\n",
              "      border-bottom-color: var(--fill-color);\n",
              "    }\n",
              "    90% {\n",
              "      border-color: transparent;\n",
              "      border-bottom-color: var(--fill-color);\n",
              "    }\n",
              "  }\n",
              "</style>\n",
              "\n",
              "  <script>\n",
              "    async function quickchart(key) {\n",
              "      const quickchartButtonEl =\n",
              "        document.querySelector('#' + key + ' button');\n",
              "      quickchartButtonEl.disabled = true;  // To prevent multiple clicks.\n",
              "      quickchartButtonEl.classList.add('colab-df-spinner');\n",
              "      try {\n",
              "        const charts = await google.colab.kernel.invokeFunction(\n",
              "            'suggestCharts', [key], {});\n",
              "      } catch (error) {\n",
              "        console.error('Error during call to suggestCharts:', error);\n",
              "      }\n",
              "      quickchartButtonEl.classList.remove('colab-df-spinner');\n",
              "      quickchartButtonEl.classList.add('colab-df-quickchart-complete');\n",
              "    }\n",
              "    (() => {\n",
              "      let quickchartButtonEl =\n",
              "        document.querySelector('#df-d16e3eef-4a07-4cf6-9028-19248feeaf41 button');\n",
              "      quickchartButtonEl.style.display =\n",
              "        google.colab.kernel.accessAllowed ? 'block' : 'none';\n",
              "    })();\n",
              "  </script>\n",
              "</div>\n",
              "\n",
              "    </div>\n",
              "  </div>\n"
            ],
            "application/vnd.google.colaboratory.intrinsic+json": {
              "type": "dataframe",
              "summary": "{\n  \"name\": \"df\",\n  \"rows\": 5,\n  \"fields\": [\n    {\n      \"column\": \"x1\",\n      \"properties\": {\n        \"dtype\": \"number\",\n        \"std\": 0.7982195517976725,\n        \"min\": -0.942093589,\n        \"max\": 1.22244507,\n        \"num_unique_values\": 5,\n        \"samples\": [\n          1.22244507,\n          0.021351224,\n          -0.112465983\n        ],\n        \"semantic_type\": \"\",\n        \"description\": \"\"\n      }\n    },\n    {\n      \"column\": \"x2\",\n      \"properties\": {\n        \"dtype\": \"number\",\n        \"std\": 0.5439250462879333,\n        \"min\": -1.688230028,\n        \"max\": -0.403176947,\n        \"num_unique_values\": 5,\n        \"samples\": [\n          -0.403176947,\n          -0.499016638,\n          -1.688230028\n        ],\n        \"semantic_type\": \"\",\n        \"description\": \"\"\n      }\n    },\n    {\n      \"column\": \"y\",\n      \"properties\": {\n        \"dtype\": \"number\",\n        \"std\": 20.128173114723236,\n        \"min\": -57.04319598,\n        \"max\": -9.804714077,\n        \"num_unique_values\": 5,\n        \"samples\": [\n          -52.12149344,\n          -9.804714077,\n          -57.04319598\n        ],\n        \"semantic_type\": \"\",\n        \"description\": \"\"\n      }\n    }\n  ]\n}"
            }
          },
          "metadata": {},
          "execution_count": 9
        }
      ]
    },
    {
      "cell_type": "code",
      "source": [
        "# Assign features and target\n",
        "X = torch.tensor(df[['x1', 'x2']].values, dtype=torch.float)\n",
        "y = torch.tensor(df['y'].values, dtype=torch.float)\n",
        "\n",
        "X"
      ],
      "metadata": {
        "colab": {
          "base_uri": "https://localhost:8080/"
        },
        "id": "D35R8579w347",
        "outputId": "7fab7ba8-361c-4854-893e-f9361e3feefe"
      },
      "execution_count": 10,
      "outputs": [
        {
          "output_type": "execute_result",
          "data": {
            "text/plain": [
              "tensor([[-2.2014, -0.4689],\n",
              "        [-0.2910,  0.7773],\n",
              "        [-0.3278,  0.0401],\n",
              "        ...,\n",
              "        [-0.1125, -1.6882],\n",
              "        [-0.4035, -0.4123],\n",
              "        [ 0.0214, -0.4990]])"
            ]
          },
          "metadata": {},
          "execution_count": 10
        }
      ]
    },
    {
      "cell_type": "code",
      "source": [
        "y[:10]"
      ],
      "metadata": {
        "colab": {
          "base_uri": "https://localhost:8080/"
        },
        "id": "Gz2WGFrSxGAW",
        "outputId": "51ab662b-331c-4725-fd5a-e9d4e5de9dd6"
      },
      "execution_count": 12,
      "outputs": [
        {
          "output_type": "execute_result",
          "data": {
            "text/plain": [
              "tensor([-30.3556,  25.5603,  32.7975,  72.7346, -48.0724,  25.7701,  54.1968,\n",
              "          1.1069,  -2.2052, -62.6461])"
            ]
          },
          "metadata": {},
          "execution_count": 12
        }
      ]
    },
    {
      "cell_type": "code",
      "source": [
        "X.shape, y.shape"
      ],
      "metadata": {
        "colab": {
          "base_uri": "https://localhost:8080/"
        },
        "id": "ID8Sbgl4xG1J",
        "outputId": "0b6b7f55-3c9c-4697-f831-64abe879b8be"
      },
      "execution_count": 13,
      "outputs": [
        {
          "output_type": "execute_result",
          "data": {
            "text/plain": [
              "(torch.Size([1000, 2]), torch.Size([1000]))"
            ]
          },
          "metadata": {},
          "execution_count": 13
        }
      ]
    },
    {
      "cell_type": "code",
      "source": [
        "# Shuffling & train/test split\n",
        "torch.manual_seed(123)\n",
        "shuffle_idx = torch.randperm(y.size(0), dtype=torch.long)\n",
        "shuffle_idx[:10]"
      ],
      "metadata": {
        "colab": {
          "base_uri": "https://localhost:8080/"
        },
        "id": "ZsTgF09txNXD",
        "outputId": "4efa47ee-412d-4a76-92c7-5aa2b42fdd9d"
      },
      "execution_count": 15,
      "outputs": [
        {
          "output_type": "execute_result",
          "data": {
            "text/plain": [
              "tensor([382, 974, 946,  31, 512,  42, 918, 564, 827, 227])"
            ]
          },
          "metadata": {},
          "execution_count": 15
        }
      ]
    },
    {
      "cell_type": "code",
      "source": [
        "X, y = X[shuffle_idx], y[shuffle_idx]\n",
        "\n",
        "percent70 = int(shuffle_idx.size(0) * 0.7)\n",
        "print(f'percent70: {percent70}')\n",
        "\n",
        "X_train, X_test = X[shuffle_idx[:percent70]], X[shuffle_idx[percent70:]]\n",
        "y_train, y_test = y[shuffle_idx[:percent70]], y[shuffle_idx[percent70:]]\n",
        "\n",
        "# Normalize (mean zero, unit variance)\n",
        "mu, sigma = X_train.mean(dim=0), X_train.std(dim=0)\n",
        "X_train = (X_train - mu) / sigma\n",
        "X_test = (X_test - mu) / sigma"
      ],
      "metadata": {
        "colab": {
          "base_uri": "https://localhost:8080/"
        },
        "id": "8q7-XX5xxZQV",
        "outputId": "eb507cd4-a6ab-4af4-fa09-d5038db654c8"
      },
      "execution_count": 16,
      "outputs": [
        {
          "output_type": "stream",
          "name": "stdout",
          "text": [
            "percent70: 700\n"
          ]
        }
      ]
    },
    {
      "cell_type": "code",
      "source": [
        "X_train"
      ],
      "metadata": {
        "colab": {
          "base_uri": "https://localhost:8080/"
        },
        "id": "L04waDguyJU6",
        "outputId": "41c60659-bfa7-4e30-868f-881b7f34f2cb"
      },
      "execution_count": 17,
      "outputs": [
        {
          "output_type": "execute_result",
          "data": {
            "text/plain": [
              "tensor([[-1.2445,  0.2304],\n",
              "        [ 0.9749, -0.3741],\n",
              "        [ 1.5007,  0.1612],\n",
              "        ...,\n",
              "        [-1.4082, -0.8488],\n",
              "        [-1.0998, -0.5673],\n",
              "        [ 0.6411, -1.6529]])"
            ]
          },
          "metadata": {},
          "execution_count": 17
        }
      ]
    },
    {
      "cell_type": "code",
      "source": [
        "X_train.mean(0)"
      ],
      "metadata": {
        "colab": {
          "base_uri": "https://localhost:8080/"
        },
        "id": "Rw0Mq43nyMz5",
        "outputId": "442e0e0f-e1db-4076-9fd3-c3ffc92b6865"
      },
      "execution_count": 18,
      "outputs": [
        {
          "output_type": "execute_result",
          "data": {
            "text/plain": [
              "tensor([-1.0899e-08, -1.6349e-08])"
            ]
          },
          "metadata": {},
          "execution_count": 18
        }
      ]
    },
    {
      "cell_type": "code",
      "source": [
        "X_train.std(0)"
      ],
      "metadata": {
        "colab": {
          "base_uri": "https://localhost:8080/"
        },
        "id": "ld9G_kOXyPEv",
        "outputId": "851d57f7-5ea5-4086-f4cb-2197859bb1dd"
      },
      "execution_count": 19,
      "outputs": [
        {
          "output_type": "execute_result",
          "data": {
            "text/plain": [
              "tensor([1., 1.])"
            ]
          },
          "metadata": {},
          "execution_count": 19
        }
      ]
    },
    {
      "cell_type": "markdown",
      "source": [
        "## Implement Linear Regression Model"
      ],
      "metadata": {
        "id": "ZBmNIRYhyS-e"
      }
    },
    {
      "cell_type": "code",
      "source": [
        "class LinearRegression1():\n",
        "  def __init__(self, num_features):\n",
        "    self.num_features = num_features\n",
        "    self.weights = torch.zeros(num_features, 1, dtype=torch.float)\n",
        "    self.bias = torch.zeros(1, dtype=torch.float)\n",
        "\n",
        "  def forward(self, x):\n",
        "    net_inputs = torch.add(torch.mm(x, self.weights), self.bias)\n",
        "    activations = net_inputs\n",
        "    return activations.view(-1)\n",
        "\n",
        "  def backward(self, x, yhat, y):\n",
        "    grad_loss_yhat = 2 * (yhat - y)\n",
        "    grad_yhat_weights = x\n",
        "    grad_yhat_bias = 1.\n",
        "\n",
        "    # Chain rule: inner times outer\n",
        "    grad_loss_weights = torch.mm(grad_yhat_weights.t(), grad_loss_yhat.view(-1, 1)) / y.size(0)\n",
        "\n",
        "    grad_loss_bias = torch.sum(grad_yhat_bias * grad_loss_yhat) / y.size(0)\n",
        "\n",
        "    # return negative gradient\n",
        "    return -grad_loss_weights, -grad_loss_bias"
      ],
      "metadata": {
        "id": "-IrFcXQOyQx4"
      },
      "execution_count": 20,
      "outputs": []
    },
    {
      "cell_type": "markdown",
      "source": [
        "## Define Training and Evaluation Functions"
      ],
      "metadata": {
        "id": "60lWi0pb0XLE"
      }
    },
    {
      "cell_type": "code",
      "source": [
        "#######################################################\n",
        "####### Training and evaluation wrappers\n",
        "#######################################################\n",
        "\n",
        "def loss(yhat, y):\n",
        "  return torch.mean((yhat - y) ** 2)\n",
        "\n",
        "\n",
        "def train(model, x, y, num_epochs, learning_rate=0.01):\n",
        "  cost = []\n",
        "  for e in range(num_epochs):\n",
        "    ### Compute outputs ###\n",
        "    yhat = model.forward(x)\n",
        "\n",
        "    ### Compute gradients ###\n",
        "    negative_grad_w, negative_grad_b = model.backward(x, yhat, y)\n",
        "\n",
        "    ### Update weights ###\n",
        "    model.weights += learning_rate * negative_grad_w\n",
        "    model.bias += learning_rate * negative_grad_b\n",
        "\n",
        "    ### Logging ####\n",
        "    #yhat = model.forward(x)  # note that this ia a bit wasteful here\n",
        "    curr_loss = loss(yhat, y)\n",
        "    print(f\"Epoch: {e+1:03d} | MSE: {curr_loss:.5f}\")\n",
        "    cost.append(curr_loss)\n",
        "\n",
        "  return cost"
      ],
      "metadata": {
        "id": "XBJzoz4o0Txt"
      },
      "execution_count": 25,
      "outputs": []
    },
    {
      "cell_type": "markdown",
      "source": [
        "## Train Linear Regression Model"
      ],
      "metadata": {
        "id": "2fnc1akt1rNx"
      }
    },
    {
      "cell_type": "code",
      "source": [
        "model = LinearRegression1(num_features=X_train.size(1))\n",
        "\n",
        "cost = train(model, X_train, y_train, num_epochs=100, learning_rate=0.05)"
      ],
      "metadata": {
        "colab": {
          "base_uri": "https://localhost:8080/"
        },
        "id": "1MrSTri61ogZ",
        "outputId": "d737ed69-5203-4e84-f10f-848361760405"
      },
      "execution_count": 26,
      "outputs": [
        {
          "output_type": "stream",
          "name": "stdout",
          "text": [
            "Epoch: 001 | MSE: 1804.54102\n",
            "Epoch: 002 | MSE: 1532.67603\n",
            "Epoch: 003 | MSE: 1312.39868\n",
            "Epoch: 004 | MSE: 1133.91809\n",
            "Epoch: 005 | MSE: 989.30286\n",
            "Epoch: 006 | MSE: 872.12592\n",
            "Epoch: 007 | MSE: 777.18097\n",
            "Epoch: 008 | MSE: 700.24915\n",
            "Epoch: 009 | MSE: 637.91241\n",
            "Epoch: 010 | MSE: 587.40167\n",
            "Epoch: 011 | MSE: 546.47284\n",
            "Epoch: 012 | MSE: 513.30811\n",
            "Epoch: 013 | MSE: 486.43430\n",
            "Epoch: 014 | MSE: 464.65799\n",
            "Epoch: 015 | MSE: 447.01224\n",
            "Epoch: 016 | MSE: 432.71332\n",
            "Epoch: 017 | MSE: 421.12634\n",
            "Epoch: 018 | MSE: 411.73697\n",
            "Epoch: 019 | MSE: 404.12827\n",
            "Epoch: 020 | MSE: 397.96249\n",
            "Epoch: 021 | MSE: 392.96603\n",
            "Epoch: 022 | MSE: 388.91708\n",
            "Epoch: 023 | MSE: 385.63583\n",
            "Epoch: 024 | MSE: 382.97684\n",
            "Epoch: 025 | MSE: 380.82202\n",
            "Epoch: 026 | MSE: 379.07571\n",
            "Epoch: 027 | MSE: 377.66052\n",
            "Epoch: 028 | MSE: 376.51367\n",
            "Epoch: 029 | MSE: 375.58420\n",
            "Epoch: 030 | MSE: 374.83102\n",
            "Epoch: 031 | MSE: 374.22055\n",
            "Epoch: 032 | MSE: 373.72586\n",
            "Epoch: 033 | MSE: 373.32489\n",
            "Epoch: 034 | MSE: 372.99994\n",
            "Epoch: 035 | MSE: 372.73657\n",
            "Epoch: 036 | MSE: 372.52313\n",
            "Epoch: 037 | MSE: 372.35016\n",
            "Epoch: 038 | MSE: 372.20999\n",
            "Epoch: 039 | MSE: 372.09637\n",
            "Epoch: 040 | MSE: 372.00427\n",
            "Epoch: 041 | MSE: 371.92963\n",
            "Epoch: 042 | MSE: 371.86914\n",
            "Epoch: 043 | MSE: 371.82010\n",
            "Epoch: 044 | MSE: 371.78036\n",
            "Epoch: 045 | MSE: 371.74814\n",
            "Epoch: 046 | MSE: 371.72202\n",
            "Epoch: 047 | MSE: 371.70090\n",
            "Epoch: 048 | MSE: 371.68372\n",
            "Epoch: 049 | MSE: 371.66983\n",
            "Epoch: 050 | MSE: 371.65854\n",
            "Epoch: 051 | MSE: 371.64941\n",
            "Epoch: 052 | MSE: 371.64206\n",
            "Epoch: 053 | MSE: 371.63602\n",
            "Epoch: 054 | MSE: 371.63116\n",
            "Epoch: 055 | MSE: 371.62723\n",
            "Epoch: 056 | MSE: 371.62402\n",
            "Epoch: 057 | MSE: 371.62146\n",
            "Epoch: 058 | MSE: 371.61929\n",
            "Epoch: 059 | MSE: 371.61765\n",
            "Epoch: 060 | MSE: 371.61621\n",
            "Epoch: 061 | MSE: 371.61511\n",
            "Epoch: 062 | MSE: 371.61423\n",
            "Epoch: 063 | MSE: 371.61349\n",
            "Epoch: 064 | MSE: 371.61292\n",
            "Epoch: 065 | MSE: 371.61243\n",
            "Epoch: 066 | MSE: 371.61200\n",
            "Epoch: 067 | MSE: 371.61169\n",
            "Epoch: 068 | MSE: 371.61145\n",
            "Epoch: 069 | MSE: 371.61124\n",
            "Epoch: 070 | MSE: 371.61108\n",
            "Epoch: 071 | MSE: 371.61093\n",
            "Epoch: 072 | MSE: 371.61081\n",
            "Epoch: 073 | MSE: 371.61072\n",
            "Epoch: 074 | MSE: 371.61066\n",
            "Epoch: 075 | MSE: 371.61060\n",
            "Epoch: 076 | MSE: 371.61057\n",
            "Epoch: 077 | MSE: 371.61053\n",
            "Epoch: 078 | MSE: 371.61050\n",
            "Epoch: 079 | MSE: 371.61047\n",
            "Epoch: 080 | MSE: 371.61041\n",
            "Epoch: 081 | MSE: 371.61041\n",
            "Epoch: 082 | MSE: 371.61041\n",
            "Epoch: 083 | MSE: 371.61041\n",
            "Epoch: 084 | MSE: 371.61041\n",
            "Epoch: 085 | MSE: 371.61041\n",
            "Epoch: 086 | MSE: 371.61035\n",
            "Epoch: 087 | MSE: 371.61035\n",
            "Epoch: 088 | MSE: 371.61038\n",
            "Epoch: 089 | MSE: 371.61035\n",
            "Epoch: 090 | MSE: 371.61032\n",
            "Epoch: 091 | MSE: 371.61032\n",
            "Epoch: 092 | MSE: 371.61035\n",
            "Epoch: 093 | MSE: 371.61035\n",
            "Epoch: 094 | MSE: 371.61032\n",
            "Epoch: 095 | MSE: 371.61032\n",
            "Epoch: 096 | MSE: 371.61035\n",
            "Epoch: 097 | MSE: 371.61035\n",
            "Epoch: 098 | MSE: 371.61032\n",
            "Epoch: 099 | MSE: 371.61035\n",
            "Epoch: 100 | MSE: 371.61035\n"
          ]
        }
      ]
    },
    {
      "cell_type": "markdown",
      "source": [
        "## Evaluate Linear Regression Model\n",
        "\n",
        "### Plot MSE"
      ],
      "metadata": {
        "id": "IEsIhGsP2bjs"
      }
    },
    {
      "cell_type": "code",
      "source": [
        "plt.plot(range(len(cost)), cost)\n",
        "plt.ylabel('Mean Squared Error')\n",
        "plt.xlabel('Epoch')\n",
        "plt.show();"
      ],
      "metadata": {
        "colab": {
          "base_uri": "https://localhost:8080/",
          "height": 449
        },
        "id": "frlMS0CD2YVq",
        "outputId": "d6d1b24c-eb9e-4839-f569-15f98ea3103e"
      },
      "execution_count": 27,
      "outputs": [
        {
          "output_type": "display_data",
          "data": {
            "text/plain": [
              "<Figure size 640x480 with 1 Axes>"
            ],
            "image/png": "[encoded data removed]"
          },
          "metadata": {}
        }
      ]
    },
    {
      "cell_type": "code",
      "source": [
        "#######################################################\n",
        "####### Training and evaluation wrappers\n",
        "#######################################################\n",
        "\n",
        "def loss(yhat, y):\n",
        "  return torch.mean((yhat - y) ** 2)\n",
        "\n",
        "\n",
        "def train(model, x, y, num_epochs, learning_rate=0.01):\n",
        "  cost = []\n",
        "  for e in range(num_epochs):\n",
        "    ### Compute outputs ###\n",
        "    yhat = model.forward(x)\n",
        "\n",
        "    ### Compute gradients ###\n",
        "    negative_grad_w, negative_grad_b = model.backward(x, yhat, y)\n",
        "\n",
        "    ### Update weights ###\n",
        "    model.weights += learning_rate * negative_grad_w\n",
        "    model.bias += learning_rate * negative_grad_b\n",
        "\n",
        "    ### Logging ####\n",
        "    yhat = model.forward(x)  # note that this ia a bit wasteful here\n",
        "    curr_loss = loss(yhat, y)\n",
        "    print(f\"Epoch: {e+1:03d} | MSE: {curr_loss:.5f}\")\n",
        "    cost.append(curr_loss)\n",
        "\n",
        "  return cost"
      ],
      "metadata": {
        "id": "E_JOk3fw17E_"
      },
      "execution_count": 28,
      "outputs": []
    },
    {
      "cell_type": "code",
      "source": [
        "model = LinearRegression1(num_features=X_train.size(1))\n",
        "cost = train(model,\n",
        "             X_train, y_train,\n",
        "             num_epochs=100,\n",
        "             learning_rate=0.05)"
      ],
      "metadata": {
        "colab": {
          "base_uri": "https://localhost:8080/"
        },
        "id": "cyQetpRd2L-m",
        "outputId": "8f6582aa-0111-4190-ebbc-04ecf3eb594c"
      },
      "execution_count": 29,
      "outputs": [
        {
          "output_type": "stream",
          "name": "stdout",
          "text": [
            "Epoch: 001 | MSE: 1532.67603\n",
            "Epoch: 002 | MSE: 1312.39868\n",
            "Epoch: 003 | MSE: 1133.91809\n",
            "Epoch: 004 | MSE: 989.30286\n",
            "Epoch: 005 | MSE: 872.12592\n",
            "Epoch: 006 | MSE: 777.18097\n",
            "Epoch: 007 | MSE: 700.24915\n",
            "Epoch: 008 | MSE: 637.91241\n",
            "Epoch: 009 | MSE: 587.40167\n",
            "Epoch: 010 | MSE: 546.47284\n",
            "Epoch: 011 | MSE: 513.30811\n",
            "Epoch: 012 | MSE: 486.43430\n",
            "Epoch: 013 | MSE: 464.65799\n",
            "Epoch: 014 | MSE: 447.01224\n",
            "Epoch: 015 | MSE: 432.71332\n",
            "Epoch: 016 | MSE: 421.12634\n",
            "Epoch: 017 | MSE: 411.73697\n",
            "Epoch: 018 | MSE: 404.12827\n",
            "Epoch: 019 | MSE: 397.96249\n",
            "Epoch: 020 | MSE: 392.96603\n",
            "Epoch: 021 | MSE: 388.91708\n",
            "Epoch: 022 | MSE: 385.63583\n",
            "Epoch: 023 | MSE: 382.97684\n",
            "Epoch: 024 | MSE: 380.82202\n",
            "Epoch: 025 | MSE: 379.07571\n",
            "Epoch: 026 | MSE: 377.66052\n",
            "Epoch: 027 | MSE: 376.51367\n",
            "Epoch: 028 | MSE: 375.58420\n",
            "Epoch: 029 | MSE: 374.83102\n",
            "Epoch: 030 | MSE: 374.22055\n",
            "Epoch: 031 | MSE: 373.72586\n",
            "Epoch: 032 | MSE: 373.32489\n",
            "Epoch: 033 | MSE: 372.99994\n",
            "Epoch: 034 | MSE: 372.73657\n",
            "Epoch: 035 | MSE: 372.52313\n",
            "Epoch: 036 | MSE: 372.35016\n",
            "Epoch: 037 | MSE: 372.20999\n",
            "Epoch: 038 | MSE: 372.09637\n",
            "Epoch: 039 | MSE: 372.00427\n",
            "Epoch: 040 | MSE: 371.92963\n",
            "Epoch: 041 | MSE: 371.86914\n",
            "Epoch: 042 | MSE: 371.82010\n",
            "Epoch: 043 | MSE: 371.78036\n",
            "Epoch: 044 | MSE: 371.74814\n",
            "Epoch: 045 | MSE: 371.72202\n",
            "Epoch: 046 | MSE: 371.70090\n",
            "Epoch: 047 | MSE: 371.68372\n",
            "Epoch: 048 | MSE: 371.66983\n",
            "Epoch: 049 | MSE: 371.65854\n",
            "Epoch: 050 | MSE: 371.64941\n",
            "Epoch: 051 | MSE: 371.64206\n",
            "Epoch: 052 | MSE: 371.63602\n",
            "Epoch: 053 | MSE: 371.63116\n",
            "Epoch: 054 | MSE: 371.62723\n",
            "Epoch: 055 | MSE: 371.62402\n",
            "Epoch: 056 | MSE: 371.62146\n",
            "Epoch: 057 | MSE: 371.61929\n",
            "Epoch: 058 | MSE: 371.61765\n",
            "Epoch: 059 | MSE: 371.61621\n",
            "Epoch: 060 | MSE: 371.61511\n",
            "Epoch: 061 | MSE: 371.61423\n",
            "Epoch: 062 | MSE: 371.61349\n",
            "Epoch: 063 | MSE: 371.61292\n",
            "Epoch: 064 | MSE: 371.61243\n",
            "Epoch: 065 | MSE: 371.61200\n",
            "Epoch: 066 | MSE: 371.61169\n",
            "Epoch: 067 | MSE: 371.61145\n",
            "Epoch: 068 | MSE: 371.61124\n",
            "Epoch: 069 | MSE: 371.61108\n",
            "Epoch: 070 | MSE: 371.61093\n",
            "Epoch: 071 | MSE: 371.61081\n",
            "Epoch: 072 | MSE: 371.61072\n",
            "Epoch: 073 | MSE: 371.61066\n",
            "Epoch: 074 | MSE: 371.61060\n",
            "Epoch: 075 | MSE: 371.61057\n",
            "Epoch: 076 | MSE: 371.61053\n",
            "Epoch: 077 | MSE: 371.61050\n",
            "Epoch: 078 | MSE: 371.61047\n",
            "Epoch: 079 | MSE: 371.61041\n",
            "Epoch: 080 | MSE: 371.61041\n",
            "Epoch: 081 | MSE: 371.61041\n",
            "Epoch: 082 | MSE: 371.61041\n",
            "Epoch: 083 | MSE: 371.61041\n",
            "Epoch: 084 | MSE: 371.61041\n",
            "Epoch: 085 | MSE: 371.61035\n",
            "Epoch: 086 | MSE: 371.61035\n",
            "Epoch: 087 | MSE: 371.61038\n",
            "Epoch: 088 | MSE: 371.61035\n",
            "Epoch: 089 | MSE: 371.61032\n",
            "Epoch: 090 | MSE: 371.61032\n",
            "Epoch: 091 | MSE: 371.61035\n",
            "Epoch: 092 | MSE: 371.61035\n",
            "Epoch: 093 | MSE: 371.61032\n",
            "Epoch: 094 | MSE: 371.61032\n",
            "Epoch: 095 | MSE: 371.61035\n",
            "Epoch: 096 | MSE: 371.61035\n",
            "Epoch: 097 | MSE: 371.61032\n",
            "Epoch: 098 | MSE: 371.61035\n",
            "Epoch: 099 | MSE: 371.61035\n",
            "Epoch: 100 | MSE: 371.61035\n"
          ]
        }
      ]
    },
    {
      "cell_type": "code",
      "source": [
        "plt.plot(range(len(cost)), cost)\n",
        "plt.ylabel('Mean Squared Error')\n",
        "plt.xlabel('Epoch')\n",
        "plt.show();"
      ],
      "metadata": {
        "colab": {
          "base_uri": "https://localhost:8080/",
          "height": 449
        },
        "id": "1rE2zY9k2Ox6",
        "outputId": "dde8df90-e77f-454a-8307-76aaa5bf9d8f"
      },
      "execution_count": 30,
      "outputs": [
        {
          "output_type": "display_data",
          "data": {
            "text/plain": [
              "<Figure size 640x480 with 1 Axes>"
            ],
            "image/png": "[encoded data removed]"
          },
          "metadata": {}
        }
      ]
    },
    {
      "cell_type": "code",
      "source": [
        "train_pred = model.forward(X_train)\n",
        "test_pred = model.forward(X_test)\n",
        "\n",
        "print(f'Train MSE: {loss(train_pred, y_train):.5f}')\n",
        "print(f'Test MSE:  {loss(test_pred, y_test):.5f}')"
      ],
      "metadata": {
        "colab": {
          "base_uri": "https://localhost:8080/"
        },
        "id": "DZ2n3kFo2vNV",
        "outputId": "1418f7e4-b1c6-474d-c842-0a17dba1d58d"
      },
      "execution_count": 31,
      "outputs": [
        {
          "output_type": "stream",
          "name": "stdout",
          "text": [
            "Train MSE: 371.61035\n",
            "Test MSE:  406.88412\n"
          ]
        }
      ]
    },
    {
      "cell_type": "markdown",
      "source": [
        "## Compare with analytical solution"
      ],
      "metadata": {
        "id": "TS42hnRv3Fdy"
      }
    },
    {
      "cell_type": "code",
      "source": [
        "print(f'Weights:\\n {model.weights}')\n",
        "print(f'Bias:\\n {model.bias}')"
      ],
      "metadata": {
        "colab": {
          "base_uri": "https://localhost:8080/"
        },
        "id": "CkeBTLCP3Dfh",
        "outputId": "71d824c7-9abe-471d-9920-463e3c774081"
      },
      "execution_count": 32,
      "outputs": [
        {
          "output_type": "stream",
          "name": "stdout",
          "text": [
            "Weights:\n",
            " tensor([[ 0.3623],\n",
            "        [37.8790]])\n",
            "Bias:\n",
            " tensor([-0.5464])\n"
          ]
        }
      ]
    },
    {
      "cell_type": "code",
      "source": [
        "def analytical_solution(x, y):\n",
        "  Xb = torch.cat( (torch.ones((x.size(0), 1)), x), dim=1)\n",
        "  w = torch.zeros(x.size(1))\n",
        "  z = torch.inverse(torch.matmul(Xb.t(), Xb))\n",
        "  params = torch.matmul(z, torch.matmul(Xb.t(), y))\n",
        "  b, w = torch.tensor([params[0]]), params[1:].view(x.size(1), 1)\n",
        "  return w, b"
      ],
      "metadata": {
        "id": "OppspxLh3QDr"
      },
      "execution_count": 33,
      "outputs": []
    },
    {
      "cell_type": "code",
      "source": [
        "w, b = analytical_solution(X_train, y_train)\n",
        "print(f'Analytical weights:\\n{w}')\n",
        "print(f'Analytical bias:\\n{b}')"
      ],
      "metadata": {
        "colab": {
          "base_uri": "https://localhost:8080/"
        },
        "id": "8LGg2GW84B9l",
        "outputId": "c1a22dfe-ae12-4b91-e7d8-ec48a16d6770"
      },
      "execution_count": 34,
      "outputs": [
        {
          "output_type": "stream",
          "name": "stdout",
          "text": [
            "Analytical weights:\n",
            "tensor([[ 0.3624],\n",
            "        [37.8801]])\n",
            "Analytical bias:\n",
            "tensor([-0.5464])\n"
          ]
        }
      ]
    },
    {
      "cell_type": "code",
      "source": [
        "n = X_train.size(0)\n",
        "n"
      ],
      "metadata": {
        "colab": {
          "base_uri": "https://localhost:8080/"
        },
        "id": "son1gVta4QC2",
        "outputId": "8e42756c-6afe-46a9-be4b-1c320b4ce2ac"
      },
      "execution_count": 35,
      "outputs": [
        {
          "output_type": "execute_result",
          "data": {
            "text/plain": [
              "700"
            ]
          },
          "metadata": {},
          "execution_count": 35
        }
      ]
    },
    {
      "cell_type": "code",
      "source": [
        "ones = torch.ones((n, 1))\n",
        "ones[:10]"
      ],
      "metadata": {
        "colab": {
          "base_uri": "https://localhost:8080/"
        },
        "id": "-yNPzy-k4V4V",
        "outputId": "61c79913-a1cb-4806-95fd-c1fe833879e9"
      },
      "execution_count": 37,
      "outputs": [
        {
          "output_type": "execute_result",
          "data": {
            "text/plain": [
              "tensor([[1.],\n",
              "        [1.],\n",
              "        [1.],\n",
              "        [1.],\n",
              "        [1.],\n",
              "        [1.],\n",
              "        [1.],\n",
              "        [1.],\n",
              "        [1.],\n",
              "        [1.]])"
            ]
          },
          "metadata": {},
          "execution_count": 37
        }
      ]
    },
    {
      "cell_type": "code",
      "source": [
        "Xb = torch.cat((ones, X_train), dim=1)\n",
        "Xb"
      ],
      "metadata": {
        "colab": {
          "base_uri": "https://localhost:8080/"
        },
        "id": "NlDk3hyp4csh",
        "outputId": "a791c49c-3659-4770-f9e6-74332dfd0ee2"
      },
      "execution_count": 38,
      "outputs": [
        {
          "output_type": "execute_result",
          "data": {
            "text/plain": [
              "tensor([[ 1.0000, -1.2445,  0.2304],\n",
              "        [ 1.0000,  0.9749, -0.3741],\n",
              "        [ 1.0000,  1.5007,  0.1612],\n",
              "        ...,\n",
              "        [ 1.0000, -1.4082, -0.8488],\n",
              "        [ 1.0000, -1.0998, -0.5673],\n",
              "        [ 1.0000,  0.6411, -1.6529]])"
            ]
          },
          "metadata": {},
          "execution_count": 38
        }
      ]
    },
    {
      "cell_type": "code",
      "source": [
        "w = torch.zeros(X_train.size(1))\n",
        "w"
      ],
      "metadata": {
        "colab": {
          "base_uri": "https://localhost:8080/"
        },
        "id": "3MYT99QH4m1Y",
        "outputId": "b57b7f74-2290-4b14-f91f-550fefa0fb15"
      },
      "execution_count": 39,
      "outputs": [
        {
          "output_type": "execute_result",
          "data": {
            "text/plain": [
              "tensor([0., 0.])"
            ]
          },
          "metadata": {},
          "execution_count": 39
        }
      ]
    },
    {
      "cell_type": "code",
      "source": [
        "z = torch.inverse(Xb.T @ Xb)\n",
        "params = z @ Xb.T @ y_train\n",
        "params.shape"
      ],
      "metadata": {
        "colab": {
          "base_uri": "https://localhost:8080/"
        },
        "id": "0e06CUDB4tP8",
        "outputId": "db1f1a4f-52a8-44a2-da8e-35a6c8a8e9dc"
      },
      "execution_count": 41,
      "outputs": [
        {
          "output_type": "execute_result",
          "data": {
            "text/plain": [
              "torch.Size([3])"
            ]
          },
          "metadata": {},
          "execution_count": 41
        }
      ]
    },
    {
      "cell_type": "code",
      "source": [
        "params[0]"
      ],
      "metadata": {
        "colab": {
          "base_uri": "https://localhost:8080/"
        },
        "id": "ERuNMKgB5CaO",
        "outputId": "25d31805-3451-440e-f1c8-a02606ca26e2"
      },
      "execution_count": 42,
      "outputs": [
        {
          "output_type": "execute_result",
          "data": {
            "text/plain": [
              "tensor(-0.5464)"
            ]
          },
          "metadata": {},
          "execution_count": 42
        }
      ]
    },
    {
      "cell_type": "code",
      "source": [
        "params[1:]"
      ],
      "metadata": {
        "colab": {
          "base_uri": "https://localhost:8080/"
        },
        "id": "5njrOpHe5PQv",
        "outputId": "5bdbbf84-282e-42c4-aa2c-a68b24fdbd5a"
      },
      "execution_count": 43,
      "outputs": [
        {
          "output_type": "execute_result",
          "data": {
            "text/plain": [
              "tensor([ 0.3624, 37.8801])"
            ]
          },
          "metadata": {},
          "execution_count": 43
        }
      ]
    },
    {
      "cell_type": "code",
      "source": [
        "b = torch.tensor([params[0]])\n",
        "b"
      ],
      "metadata": {
        "colab": {
          "base_uri": "https://localhost:8080/"
        },
        "id": "raeuKPY25RgL",
        "outputId": "d35dc36a-e1da-4f84-f9ee-3b5f0cf83ff1"
      },
      "execution_count": 44,
      "outputs": [
        {
          "output_type": "execute_result",
          "data": {
            "text/plain": [
              "tensor([-0.5464])"
            ]
          },
          "metadata": {},
          "execution_count": 44
        }
      ]
    },
    {
      "cell_type": "code",
      "source": [
        "w = params[1:].view(-1, 1)\n",
        "w"
      ],
      "metadata": {
        "colab": {
          "base_uri": "https://localhost:8080/"
        },
        "id": "PbL2jNZb5V-K",
        "outputId": "2911afcc-24fd-4b6a-c834-28e05687b03b"
      },
      "execution_count": 45,
      "outputs": [
        {
          "output_type": "execute_result",
          "data": {
            "text/plain": [
              "tensor([[ 0.3624],\n",
              "        [37.8801]])"
            ]
          },
          "metadata": {},
          "execution_count": 45
        }
      ]
    },
    {
      "cell_type": "markdown",
      "source": [
        "## Shuffling before training"
      ],
      "metadata": {
        "id": "k5c5kyPV5c6f"
      }
    },
    {
      "cell_type": "code",
      "source": [
        "#######################################################\n",
        "####### Training and evaluation wrappers\n",
        "#######################################################\n",
        "\n",
        "def loss(yhat, y):\n",
        "  return torch.mean((yhat - y) ** 2)\n",
        "\n",
        "\n",
        "def train(model, x, y, num_epochs, learning_rate=0.01):\n",
        "  cost = []\n",
        "  for e in range(num_epochs):\n",
        "    ## Shuffling training data before each epoch\n",
        "    shuffle_idx = torch.randperm(y.size(0), dtype=torch.long)\n",
        "    x, y = x[shuffle_idx], y[shuffle_idx]\n",
        "\n",
        "    ### Compute outputs ###\n",
        "    yhat = model.forward(x)\n",
        "\n",
        "    ### Compute gradients ###\n",
        "    negative_grad_w, negative_grad_b = model.backward(x, yhat, y)\n",
        "\n",
        "    ### Update weights ###\n",
        "    model.weights += learning_rate * negative_grad_w\n",
        "    model.bias += learning_rate * negative_grad_b\n",
        "\n",
        "    ### Logging ####\n",
        "    yhat = model.forward(x)  # note that this ia a bit wasteful here\n",
        "    curr_loss = loss(yhat, y)\n",
        "    print(f\"Epoch: {e+1:03d} | MSE: {curr_loss:.5f}\")\n",
        "    cost.append(curr_loss)\n",
        "\n",
        "  return cost"
      ],
      "metadata": {
        "id": "a8QwEDvT5Z_M"
      },
      "execution_count": 46,
      "outputs": []
    },
    {
      "cell_type": "code",
      "source": [
        "model = LinearRegression1(num_features=X_train.size(1))\n",
        "cost = train(model,\n",
        "             X_train, y_train,\n",
        "             num_epochs=100,\n",
        "             learning_rate=0.05)"
      ],
      "metadata": {
        "colab": {
          "base_uri": "https://localhost:8080/"
        },
        "id": "G-E5WdMM6GcL",
        "outputId": "fd8edd6a-b371-4f70-9219-66b81693a0cf"
      },
      "execution_count": 47,
      "outputs": [
        {
          "output_type": "stream",
          "name": "stdout",
          "text": [
            "Epoch: 001 | MSE: 1532.67603\n",
            "Epoch: 002 | MSE: 1312.39844\n",
            "Epoch: 003 | MSE: 1133.91809\n",
            "Epoch: 004 | MSE: 989.30286\n",
            "Epoch: 005 | MSE: 872.12610\n",
            "Epoch: 006 | MSE: 777.18115\n",
            "Epoch: 007 | MSE: 700.24939\n",
            "Epoch: 008 | MSE: 637.91266\n",
            "Epoch: 009 | MSE: 587.40186\n",
            "Epoch: 010 | MSE: 546.47302\n",
            "Epoch: 011 | MSE: 513.30823\n",
            "Epoch: 012 | MSE: 486.43442\n",
            "Epoch: 013 | MSE: 464.65811\n",
            "Epoch: 014 | MSE: 447.01233\n",
            "Epoch: 015 | MSE: 432.71344\n",
            "Epoch: 016 | MSE: 421.12643\n",
            "Epoch: 017 | MSE: 411.73706\n",
            "Epoch: 018 | MSE: 404.12836\n",
            "Epoch: 019 | MSE: 397.96259\n",
            "Epoch: 020 | MSE: 392.96613\n",
            "Epoch: 021 | MSE: 388.91714\n",
            "Epoch: 022 | MSE: 385.63593\n",
            "Epoch: 023 | MSE: 382.97687\n",
            "Epoch: 024 | MSE: 380.82202\n",
            "Epoch: 025 | MSE: 379.07574\n",
            "Epoch: 026 | MSE: 377.66052\n",
            "Epoch: 027 | MSE: 376.51367\n",
            "Epoch: 028 | MSE: 375.58423\n",
            "Epoch: 029 | MSE: 374.83099\n",
            "Epoch: 030 | MSE: 374.22055\n",
            "Epoch: 031 | MSE: 373.72586\n",
            "Epoch: 032 | MSE: 373.32492\n",
            "Epoch: 033 | MSE: 372.99997\n",
            "Epoch: 034 | MSE: 372.73660\n",
            "Epoch: 035 | MSE: 372.52316\n",
            "Epoch: 036 | MSE: 372.35016\n",
            "Epoch: 037 | MSE: 372.20996\n",
            "Epoch: 038 | MSE: 372.09637\n",
            "Epoch: 039 | MSE: 372.00424\n",
            "Epoch: 040 | MSE: 371.92963\n",
            "Epoch: 041 | MSE: 371.86914\n",
            "Epoch: 042 | MSE: 371.82010\n",
            "Epoch: 043 | MSE: 371.78036\n",
            "Epoch: 044 | MSE: 371.74814\n",
            "Epoch: 045 | MSE: 371.72205\n",
            "Epoch: 046 | MSE: 371.70084\n",
            "Epoch: 047 | MSE: 371.68372\n",
            "Epoch: 048 | MSE: 371.66983\n",
            "Epoch: 049 | MSE: 371.65854\n",
            "Epoch: 050 | MSE: 371.64948\n",
            "Epoch: 051 | MSE: 371.64200\n",
            "Epoch: 052 | MSE: 371.63602\n",
            "Epoch: 053 | MSE: 371.63116\n",
            "Epoch: 054 | MSE: 371.62720\n",
            "Epoch: 055 | MSE: 371.62405\n",
            "Epoch: 056 | MSE: 371.62146\n",
            "Epoch: 057 | MSE: 371.61929\n",
            "Epoch: 058 | MSE: 371.61765\n",
            "Epoch: 059 | MSE: 371.61624\n",
            "Epoch: 060 | MSE: 371.61511\n",
            "Epoch: 061 | MSE: 371.61423\n",
            "Epoch: 062 | MSE: 371.61349\n",
            "Epoch: 063 | MSE: 371.61288\n",
            "Epoch: 064 | MSE: 371.61240\n",
            "Epoch: 065 | MSE: 371.61200\n",
            "Epoch: 066 | MSE: 371.61169\n",
            "Epoch: 067 | MSE: 371.61142\n",
            "Epoch: 068 | MSE: 371.61121\n",
            "Epoch: 069 | MSE: 371.61108\n",
            "Epoch: 070 | MSE: 371.61093\n",
            "Epoch: 071 | MSE: 371.61081\n",
            "Epoch: 072 | MSE: 371.61075\n",
            "Epoch: 073 | MSE: 371.61066\n",
            "Epoch: 074 | MSE: 371.61057\n",
            "Epoch: 075 | MSE: 371.61053\n",
            "Epoch: 076 | MSE: 371.61050\n",
            "Epoch: 077 | MSE: 371.61047\n",
            "Epoch: 078 | MSE: 371.61044\n",
            "Epoch: 079 | MSE: 371.61041\n",
            "Epoch: 080 | MSE: 371.61041\n",
            "Epoch: 081 | MSE: 371.61038\n",
            "Epoch: 082 | MSE: 371.61041\n",
            "Epoch: 083 | MSE: 371.61038\n",
            "Epoch: 084 | MSE: 371.61041\n",
            "Epoch: 085 | MSE: 371.61038\n",
            "Epoch: 086 | MSE: 371.61038\n",
            "Epoch: 087 | MSE: 371.61035\n",
            "Epoch: 088 | MSE: 371.61032\n",
            "Epoch: 089 | MSE: 371.61035\n",
            "Epoch: 090 | MSE: 371.61035\n",
            "Epoch: 091 | MSE: 371.61032\n",
            "Epoch: 092 | MSE: 371.61035\n",
            "Epoch: 093 | MSE: 371.61035\n",
            "Epoch: 094 | MSE: 371.61032\n",
            "Epoch: 095 | MSE: 371.61032\n",
            "Epoch: 096 | MSE: 371.61035\n",
            "Epoch: 097 | MSE: 371.61032\n",
            "Epoch: 098 | MSE: 371.61035\n",
            "Epoch: 099 | MSE: 371.61035\n",
            "Epoch: 100 | MSE: 371.61035\n"
          ]
        }
      ]
    },
    {
      "cell_type": "code",
      "source": [
        "plt.plot(range(len(cost)), cost)\n",
        "plt.ylabel('Mean Squared Error')\n",
        "plt.xlabel('Epoch')\n",
        "plt.show();"
      ],
      "metadata": {
        "colab": {
          "base_uri": "https://localhost:8080/",
          "height": 449
        },
        "id": "plIz6yGC6HOK",
        "outputId": "c1e7f18e-c095-4c8d-e62f-574510c6a4ae"
      },
      "execution_count": 48,
      "outputs": [
        {
          "output_type": "display_data",
          "data": {
            "text/plain": [
              "<Figure size 640x480 with 1 Axes>"
            ],
            "image/png": "[encoded data removed]"
          },
          "metadata": {}
        }
      ]
    },
    {
      "cell_type": "markdown",
      "source": [
        "## Implementing Adaline"
      ],
      "metadata": {
        "id": "hqYfziYd6nBB"
      }
    },
    {
      "cell_type": "code",
      "source": [
        "df = pd.read_csv(\"https://raw.githubusercontent.com/rasbt/stat453-deep-learning-ss21/main/L05/code/datasets/iris.data\", index_col=None, header=None)\n",
        "df.columns = ['sepal_length', 'sepal_width', 'petal_length', 'petal_width', 'class']\n",
        "df.head()"
      ],
      "metadata": {
        "colab": {
          "base_uri": "https://localhost:8080/",
          "height": 206
        },
        "id": "trn3TJQI6Mci",
        "outputId": "506ff9a6-ebc2-453b-f86a-e9def64b1d2e"
      },
      "execution_count": 49,
      "outputs": [
        {
          "output_type": "execute_result",
          "data": {
            "text/plain": [
              "   sepal_length  sepal_width  petal_length  petal_width        class\n",
              "0           5.1          3.5           1.4          0.2  Iris-setosa\n",
              "1           4.9          3.0           1.4          0.2  Iris-setosa\n",
              "2           4.7          3.2           1.3          0.2  Iris-setosa\n",
              "3           4.6          3.1           1.5          0.2  Iris-setosa\n",
              "4           5.0          3.6           1.4          0.2  Iris-setosa"
            ],
            "text/html": [
              "\n",
              "  <div id=\"df-6a01afbe-43b0-4f0f-ae91-16c7b0bc487a\" class=\"colab-df-container\">\n",
              "    <div>\n",
              "<style scoped>\n",
              "    .dataframe tbody tr th:only-of-type {\n",
              "        vertical-align: middle;\n",
              "    }\n",
              "\n",
              "    .dataframe tbody tr th {\n",
              "        vertical-align: top;\n",
              "    }\n",
              "\n",
              "    .dataframe thead th {\n",
              "        text-align: right;\n",
              "    }\n",
              "</style>\n",
              "<table border=\"1\" class=\"dataframe\">\n",
              "  <thead>\n",
              "    <tr style=\"text-align: right;\">\n",
              "      <th></th>\n",
              "      <th>sepal_length</th>\n",
              "      <th>sepal_width</th>\n",
              "      <th>petal_length</th>\n",
              "      <th>petal_width</th>\n",
              "      <th>class</th>\n",
              "    </tr>\n",
              "  </thead>\n",
              "  <tbody>\n",
              "    <tr>\n",
              "      <th>0</th>\n",
              "      <td>5.1</td>\n",
              "      <td>3.5</td>\n",
              "      <td>1.4</td>\n",
              "      <td>0.2</td>\n",
              "      <td>Iris-setosa</td>\n",
              "    </tr>\n",
              "    <tr>\n",
              "      <th>1</th>\n",
              "      <td>4.9</td>\n",
              "      <td>3.0</td>\n",
              "      <td>1.4</td>\n",
              "      <td>0.2</td>\n",
              "      <td>Iris-setosa</td>\n",
              "    </tr>\n",
              "    <tr>\n",
              "      <th>2</th>\n",
              "      <td>4.7</td>\n",
              "      <td>3.2</td>\n",
              "      <td>1.3</td>\n",
              "      <td>0.2</td>\n",
              "      <td>Iris-setosa</td>\n",
              "    </tr>\n",
              "    <tr>\n",
              "      <th>3</th>\n",
              "      <td>4.6</td>\n",
              "      <td>3.1</td>\n",
              "      <td>1.5</td>\n",
              "      <td>0.2</td>\n",
              "      <td>Iris-setosa</td>\n",
              "    </tr>\n",
              "    <tr>\n",
              "      <th>4</th>\n",
              "      <td>5.0</td>\n",
              "      <td>3.6</td>\n",
              "      <td>1.4</td>\n",
              "      <td>0.2</td>\n",
              "      <td>Iris-setosa</td>\n",
              "    </tr>\n",
              "  </tbody>\n",
              "</table>\n",
              "</div>\n",
              "    <div class=\"colab-df-buttons\">\n",
              "\n",
              "  <div class=\"colab-df-container\">\n",
              "    <button class=\"colab-df-convert\" onclick=\"convertToInteractive('df-6a01afbe-43b0-4f0f-ae91-16c7b0bc487a')\"\n",
              "            title=\"Convert this dataframe to an interactive table.\"\n",
              "            style=\"display:none;\">\n",
              "\n",
              "  <svg xmlns=\"http://www.w3.org/2000/svg\" height=\"24px\" viewBox=\"0 -960 960 960\">\n",
              "    <path d=\"M120-120v-720h720v720H120Zm60-500h600v-160H180v160Zm220 220h160v-160H400v160Zm0 220h160v-160H400v160ZM180-400h160v-160H180v160Zm440 0h160v-160H620v160ZM180-180h160v-160H180v160Zm440 0h160v-160H620v160Z\"/>\n",
              "  </svg>\n",
              "    </button>\n",
              "\n",
              "  <style>\n",
              "    .colab-df-container {\n",
              "      display:flex;\n",
              "      gap: 12px;\n",
              "    }\n",
              "\n",
              "    .colab-df-convert {\n",
              "      background-color: #E8F0FE;\n",
              "      border: none;\n",
              "      border-radius: 50%;\n",
              "      cursor: pointer;\n",
              "      display: none;\n",
              "      fill: #1967D2;\n",
              "      height: 32px;\n",
              "      padding: 0 0 0 0;\n",
              "      width: 32px;\n",
              "    }\n",
              "\n",
              "    .colab-df-convert:hover {\n",
              "      background-color: #E2EBFA;\n",
              "      box-shadow: 0px 1px 2px rgba(60, 64, 67, 0.3), 0px 1px 3px 1px rgba(60, 64, 67, 0.15);\n",
              "      fill: #174EA6;\n",
              "    }\n",
              "\n",
              "    .colab-df-buttons div {\n",
              "      margin-bottom: 4px;\n",
              "    }\n",
              "\n",
              "    [theme=dark] .colab-df-convert {\n",
              "      background-color: #3B4455;\n",
              "      fill: #D2E3FC;\n",
              "    }\n",
              "\n",
              "    [theme=dark] .colab-df-convert:hover {\n",
              "      background-color: #434B5C;\n",
              "      box-shadow: 0px 1px 3px 1px rgba(0, 0, 0, 0.15);\n",
              "      filter: drop-shadow(0px 1px 2px rgba(0, 0, 0, 0.3));\n",
              "      fill: #FFFFFF;\n",
              "    }\n",
              "  </style>\n",
              "\n",
              "    <script>\n",
              "      const buttonEl =\n",
              "        document.querySelector('#df-6a01afbe-43b0-4f0f-ae91-16c7b0bc487a button.colab-df-convert');\n",
              "      buttonEl.style.display =\n",
              "        google.colab.kernel.accessAllowed ? 'block' : 'none';\n",
              "\n",
              "      async function convertToInteractive(key) {\n",
              "        const element = document.querySelector('#df-6a01afbe-43b0-4f0f-ae91-16c7b0bc487a');\n",
              "        const dataTable =\n",
              "          await google.colab.kernel.invokeFunction('convertToInteractive',\n",
              "                                                    [key], {});\n",
              "        if (!dataTable) return;\n",
              "\n",
              "        const docLinkHtml = 'Like what you see? Visit the ' +\n",
              "          '<a target=\"_blank\" href=https://colab.research.google.com/notebooks/data_table.ipynb>data table notebook</a>'\n",
              "          + ' to learn more about interactive tables.';\n",
              "        element.innerHTML = '';\n",
              "        dataTable['output_type'] = 'display_data';\n",
              "        await google.colab.output.renderOutput(dataTable, element);\n",
              "        const docLink = document.createElement('div');\n",
              "        docLink.innerHTML = docLinkHtml;\n",
              "        element.appendChild(docLink);\n",
              "      }\n",
              "    </script>\n",
              "  </div>\n",
              "\n",
              "\n",
              "<div id=\"df-d9df47d8-d574-4ce7-a124-ca465dbceda9\">\n",
              "  <button class=\"colab-df-quickchart\" onclick=\"quickchart('df-d9df47d8-d574-4ce7-a124-ca465dbceda9')\"\n",
              "            title=\"Suggest charts\"\n",
              "            style=\"display:none;\">\n",
              "\n",
              "<svg xmlns=\"http://www.w3.org/2000/svg\" height=\"24px\"viewBox=\"0 0 24 24\"\n",
              "     width=\"24px\">\n",
              "    <g>\n",
              "        <path d=\"M19 3H5c-1.1 0-2 .9-2 2v14c0 1.1.9 2 2 2h14c1.1 0 2-.9 2-2V5c0-1.1-.9-2-2-2zM9 17H7v-7h2v7zm4 0h-2V7h2v10zm4 0h-2v-4h2v4z\"/>\n",
              "    </g>\n",
              "</svg>\n",
              "  </button>\n",
              "\n",
              "<style>\n",
              "  .colab-df-quickchart {\n",
              "      --bg-color: #E8F0FE;\n",
              "      --fill-color: #1967D2;\n",
              "      --hover-bg-color: #E2EBFA;\n",
              "      --hover-fill-color: #174EA6;\n",
              "      --disabled-fill-color: #AAA;\n",
              "      --disabled-bg-color: #DDD;\n",
              "  }\n",
              "\n",
              "  [theme=dark] .colab-df-quickchart {\n",
              "      --bg-color: #3B4455;\n",
              "      --fill-color: #D2E3FC;\n",
              "      --hover-bg-color: #434B5C;\n",
              "      --hover-fill-color: #FFFFFF;\n",
              "      --disabled-bg-color: #3B4455;\n",
              "      --disabled-fill-color: #666;\n",
              "  }\n",
              "\n",
              "  .colab-df-quickchart {\n",
              "    background-color: var(--bg-color);\n",
              "    border: none;\n",
              "    border-radius: 50%;\n",
              "    cursor: pointer;\n",
              "    display: none;\n",
              "    fill: var(--fill-color);\n",
              "    height: 32px;\n",
              "    padding: 0;\n",
              "    width: 32px;\n",
              "  }\n",
              "\n",
              "  .colab-df-quickchart:hover {\n",
              "    background-color: var(--hover-bg-color);\n",
              "    box-shadow: 0 1px 2px rgba(60, 64, 67, 0.3), 0 1px 3px 1px rgba(60, 64, 67, 0.15);\n",
              "    fill: var(--button-hover-fill-color);\n",
              "  }\n",
              "\n",
              "  .colab-df-quickchart-complete:disabled,\n",
              "  .colab-df-quickchart-complete:disabled:hover {\n",
              "    background-color: var(--disabled-bg-color);\n",
              "    fill: var(--disabled-fill-color);\n",
              "    box-shadow: none;\n",
              "  }\n",
              "\n",
              "  .colab-df-spinner {\n",
              "    border: 2px solid var(--fill-color);\n",
              "    border-color: transparent;\n",
              "    border-bottom-color: var(--fill-color);\n",
              "    animation:\n",
              "      spin 1s steps(1) infinite;\n",
              "  }\n",
              "\n",
              "  @keyframes spin {\n",
              "    0% {\n",
              "      border-color: transparent;\n",
              "      border-bottom-color: var(--fill-color);\n",
              "      border-left-color: var(--fill-color);\n",
              "    }\n",
              "    20% {\n",
              "      border-color: transparent;\n",
              "      border-left-color: var(--fill-color);\n",
              "      border-top-color: var(--fill-color);\n",
              "    }\n",
              "    30% {\n",
              "      border-color: transparent;\n",
              "      border-left-color: var(--fill-color);\n",
              "      border-top-color: var(--fill-color);\n",
              "      border-right-color: var(--fill-color);\n",
              "    }\n",
              "    40% {\n",
              "      border-color: transparent;\n",
              "      border-right-color: var(--fill-color);\n",
              "      border-top-color: var(--fill-color);\n",
              "    }\n",
              "    60% {\n",
              "      border-color: transparent;\n",
              "      border-right-color: var(--fill-color);\n",
              "    }\n",
              "    80% {\n",
              "      border-color: transparent;\n",
              "      border-right-color: var(--fill-color);\n",
              "      border-bottom-color: var(--fill-color);\n",
              "    }\n",
              "    90% {\n",
              "      border-color: transparent;\n",
              "      border-bottom-color: var(--fill-color);\n",
              "    }\n",
              "  }\n",
              "</style>\n",
              "\n",
              "  <script>\n",
              "    async function quickchart(key) {\n",
              "      const quickchartButtonEl =\n",
              "        document.querySelector('#' + key + ' button');\n",
              "      quickchartButtonEl.disabled = true;  // To prevent multiple clicks.\n",
              "      quickchartButtonEl.classList.add('colab-df-spinner');\n",
              "      try {\n",
              "        const charts = await google.colab.kernel.invokeFunction(\n",
              "            'suggestCharts', [key], {});\n",
              "      } catch (error) {\n",
              "        console.error('Error during call to suggestCharts:', error);\n",
              "      }\n",
              "      quickchartButtonEl.classList.remove('colab-df-spinner');\n",
              "      quickchartButtonEl.classList.add('colab-df-quickchart-complete');\n",
              "    }\n",
              "    (() => {\n",
              "      let quickchartButtonEl =\n",
              "        document.querySelector('#df-d9df47d8-d574-4ce7-a124-ca465dbceda9 button');\n",
              "      quickchartButtonEl.style.display =\n",
              "        google.colab.kernel.accessAllowed ? 'block' : 'none';\n",
              "    })();\n",
              "  </script>\n",
              "</div>\n",
              "\n",
              "    </div>\n",
              "  </div>\n"
            ],
            "application/vnd.google.colaboratory.intrinsic+json": {
              "type": "dataframe",
              "variable_name": "df",
              "summary": "{\n  \"name\": \"df\",\n  \"rows\": 150,\n  \"fields\": [\n    {\n      \"column\": \"sepal_length\",\n      \"properties\": {\n        \"dtype\": \"number\",\n        \"std\": 0.828066127977863,\n        \"min\": 4.3,\n        \"max\": 7.9,\n        \"num_unique_values\": 35,\n        \"samples\": [\n          6.2,\n          4.5,\n          5.6\n        ],\n        \"semantic_type\": \"\",\n        \"description\": \"\"\n      }\n    },\n    {\n      \"column\": \"sepal_width\",\n      \"properties\": {\n        \"dtype\": \"number\",\n        \"std\": 0.4335943113621737,\n        \"min\": 2.0,\n        \"max\": 4.4,\n        \"num_unique_values\": 23,\n        \"samples\": [\n          2.3,\n          4.0,\n          3.5\n        ],\n        \"semantic_type\": \"\",\n        \"description\": \"\"\n      }\n    },\n    {\n      \"column\": \"petal_length\",\n      \"properties\": {\n        \"dtype\": \"number\",\n        \"std\": 1.7644204199522626,\n        \"min\": 1.0,\n        \"max\": 6.9,\n        \"num_unique_values\": 43,\n        \"samples\": [\n          6.7,\n          3.8,\n          3.7\n        ],\n        \"semantic_type\": \"\",\n        \"description\": \"\"\n      }\n    },\n    {\n      \"column\": \"petal_width\",\n      \"properties\": {\n        \"dtype\": \"number\",\n        \"std\": 0.7631607417008411,\n        \"min\": 0.1,\n        \"max\": 2.5,\n        \"num_unique_values\": 22,\n        \"samples\": [\n          0.2,\n          1.2,\n          1.3\n        ],\n        \"semantic_type\": \"\",\n        \"description\": \"\"\n      }\n    },\n    {\n      \"column\": \"class\",\n      \"properties\": {\n        \"dtype\": \"category\",\n        \"num_unique_values\": 3,\n        \"samples\": [\n          \"Iris-setosa\",\n          \"Iris-versicolor\",\n          \"Iris-virginica\"\n        ],\n        \"semantic_type\": \"\",\n        \"description\": \"\"\n      }\n    }\n  ]\n}"
            }
          },
          "metadata": {},
          "execution_count": 49
        }
      ]
    },
    {
      "cell_type": "code",
      "source": [
        "df = df.iloc[50:150]\n",
        "df.head()"
      ],
      "metadata": {
        "colab": {
          "base_uri": "https://localhost:8080/",
          "height": 206
        },
        "id": "QHmTcu9g7Glb",
        "outputId": "e54f9570-74f1-46d2-a51f-e09e2b8a6b16"
      },
      "execution_count": 50,
      "outputs": [
        {
          "output_type": "execute_result",
          "data": {
            "text/plain": [
              "    sepal_length  sepal_width  petal_length  petal_width            class\n",
              "50           7.0          3.2           4.7          1.4  Iris-versicolor\n",
              "51           6.4          3.2           4.5          1.5  Iris-versicolor\n",
              "52           6.9          3.1           4.9          1.5  Iris-versicolor\n",
              "53           5.5          2.3           4.0          1.3  Iris-versicolor\n",
              "54           6.5          2.8           4.6          1.5  Iris-versicolor"
            ],
            "text/html": [
              "\n",
              "  <div id=\"df-f8768540-fd3f-4d2a-a6d8-638f483fcea8\" class=\"colab-df-container\">\n",
              "    <div>\n",
              "<style scoped>\n",
              "    .dataframe tbody tr th:only-of-type {\n",
              "        vertical-align: middle;\n",
              "    }\n",
              "\n",
              "    .dataframe tbody tr th {\n",
              "        vertical-align: top;\n",
              "    }\n",
              "\n",
              "    .dataframe thead th {\n",
              "        text-align: right;\n",
              "    }\n",
              "</style>\n",
              "<table border=\"1\" class=\"dataframe\">\n",
              "  <thead>\n",
              "    <tr style=\"text-align: right;\">\n",
              "      <th></th>\n",
              "      <th>sepal_length</th>\n",
              "      <th>sepal_width</th>\n",
              "      <th>petal_length</th>\n",
              "      <th>petal_width</th>\n",
              "      <th>class</th>\n",
              "    </tr>\n",
              "  </thead>\n",
              "  <tbody>\n",
              "    <tr>\n",
              "      <th>50</th>\n",
              "      <td>7.0</td>\n",
              "      <td>3.2</td>\n",
              "      <td>4.7</td>\n",
              "      <td>1.4</td>\n",
              "      <td>Iris-versicolor</td>\n",
              "    </tr>\n",
              "    <tr>\n",
              "      <th>51</th>\n",
              "      <td>6.4</td>\n",
              "      <td>3.2</td>\n",
              "      <td>4.5</td>\n",
              "      <td>1.5</td>\n",
              "      <td>Iris-versicolor</td>\n",
              "    </tr>\n",
              "    <tr>\n",
              "      <th>52</th>\n",
              "      <td>6.9</td>\n",
              "      <td>3.1</td>\n",
              "      <td>4.9</td>\n",
              "      <td>1.5</td>\n",
              "      <td>Iris-versicolor</td>\n",
              "    </tr>\n",
              "    <tr>\n",
              "      <th>53</th>\n",
              "      <td>5.5</td>\n",
              "      <td>2.3</td>\n",
              "      <td>4.0</td>\n",
              "      <td>1.3</td>\n",
              "      <td>Iris-versicolor</td>\n",
              "    </tr>\n",
              "    <tr>\n",
              "      <th>54</th>\n",
              "      <td>6.5</td>\n",
              "      <td>2.8</td>\n",
              "      <td>4.6</td>\n",
              "      <td>1.5</td>\n",
              "      <td>Iris-versicolor</td>\n",
              "    </tr>\n",
              "  </tbody>\n",
              "</table>\n",
              "</div>\n",
              "    <div class=\"colab-df-buttons\">\n",
              "\n",
              "  <div class=\"colab-df-container\">\n",
              "    <button class=\"colab-df-convert\" onclick=\"convertToInteractive('df-f8768540-fd3f-4d2a-a6d8-638f483fcea8')\"\n",
              "            title=\"Convert this dataframe to an interactive table.\"\n",
              "            style=\"display:none;\">\n",
              "\n",
              "  <svg xmlns=\"http://www.w3.org/2000/svg\" height=\"24px\" viewBox=\"0 -960 960 960\">\n",
              "    <path d=\"M120-120v-720h720v720H120Zm60-500h600v-160H180v160Zm220 220h160v-160H400v160Zm0 220h160v-160H400v160ZM180-400h160v-160H180v160Zm440 0h160v-160H620v160ZM180-180h160v-160H180v160Zm440 0h160v-160H620v160Z\"/>\n",
              "  </svg>\n",
              "    </button>\n",
              "\n",
              "  <style>\n",
              "    .colab-df-container {\n",
              "      display:flex;\n",
              "      gap: 12px;\n",
              "    }\n",
              "\n",
              "    .colab-df-convert {\n",
              "      background-color: #E8F0FE;\n",
              "      border: none;\n",
              "      border-radius: 50%;\n",
              "      cursor: pointer;\n",
              "      display: none;\n",
              "      fill: #1967D2;\n",
              "      height: 32px;\n",
              "      padding: 0 0 0 0;\n",
              "      width: 32px;\n",
              "    }\n",
              "\n",
              "    .colab-df-convert:hover {\n",
              "      background-color: #E2EBFA;\n",
              "      box-shadow: 0px 1px 2px rgba(60, 64, 67, 0.3), 0px 1px 3px 1px rgba(60, 64, 67, 0.15);\n",
              "      fill: #174EA6;\n",
              "    }\n",
              "\n",
              "    .colab-df-buttons div {\n",
              "      margin-bottom: 4px;\n",
              "    }\n",
              "\n",
              "    [theme=dark] .colab-df-convert {\n",
              "      background-color: #3B4455;\n",
              "      fill: #D2E3FC;\n",
              "    }\n",
              "\n",
              "    [theme=dark] .colab-df-convert:hover {\n",
              "      background-color: #434B5C;\n",
              "      box-shadow: 0px 1px 3px 1px rgba(0, 0, 0, 0.15);\n",
              "      filter: drop-shadow(0px 1px 2px rgba(0, 0, 0, 0.3));\n",
              "      fill: #FFFFFF;\n",
              "    }\n",
              "  </style>\n",
              "\n",
              "    <script>\n",
              "      const buttonEl =\n",
              "        document.querySelector('#df-f8768540-fd3f-4d2a-a6d8-638f483fcea8 button.colab-df-convert');\n",
              "      buttonEl.style.display =\n",
              "        google.colab.kernel.accessAllowed ? 'block' : 'none';\n",
              "\n",
              "      async function convertToInteractive(key) {\n",
              "        const element = document.querySelector('#df-f8768540-fd3f-4d2a-a6d8-638f483fcea8');\n",
              "        const dataTable =\n",
              "          await google.colab.kernel.invokeFunction('convertToInteractive',\n",
              "                                                    [key], {});\n",
              "        if (!dataTable) return;\n",
              "\n",
              "        const docLinkHtml = 'Like what you see? Visit the ' +\n",
              "          '<a target=\"_blank\" href=https://colab.research.google.com/notebooks/data_table.ipynb>data table notebook</a>'\n",
              "          + ' to learn more about interactive tables.';\n",
              "        element.innerHTML = '';\n",
              "        dataTable['output_type'] = 'display_data';\n",
              "        await google.colab.output.renderOutput(dataTable, element);\n",
              "        const docLink = document.createElement('div');\n",
              "        docLink.innerHTML = docLinkHtml;\n",
              "        element.appendChild(docLink);\n",
              "      }\n",
              "    </script>\n",
              "  </div>\n",
              "\n",
              "\n",
              "<div id=\"df-0f046014-3fe9-4f25-bb1e-7b61e8450eaa\">\n",
              "  <button class=\"colab-df-quickchart\" onclick=\"quickchart('df-0f046014-3fe9-4f25-bb1e-7b61e8450eaa')\"\n",
              "            title=\"Suggest charts\"\n",
              "            style=\"display:none;\">\n",
              "\n",
              "<svg xmlns=\"http://www.w3.org/2000/svg\" height=\"24px\"viewBox=\"0 0 24 24\"\n",
              "     width=\"24px\">\n",
              "    <g>\n",
              "        <path d=\"M19 3H5c-1.1 0-2 .9-2 2v14c0 1.1.9 2 2 2h14c1.1 0 2-.9 2-2V5c0-1.1-.9-2-2-2zM9 17H7v-7h2v7zm4 0h-2V7h2v10zm4 0h-2v-4h2v4z\"/>\n",
              "    </g>\n",
              "</svg>\n",
              "  </button>\n",
              "\n",
              "<style>\n",
              "  .colab-df-quickchart {\n",
              "      --bg-color: #E8F0FE;\n",
              "      --fill-color: #1967D2;\n",
              "      --hover-bg-color: #E2EBFA;\n",
              "      --hover-fill-color: #174EA6;\n",
              "      --disabled-fill-color: #AAA;\n",
              "      --disabled-bg-color: #DDD;\n",
              "  }\n",
              "\n",
              "  [theme=dark] .colab-df-quickchart {\n",
              "      --bg-color: #3B4455;\n",
              "      --fill-color: #D2E3FC;\n",
              "      --hover-bg-color: #434B5C;\n",
              "      --hover-fill-color: #FFFFFF;\n",
              "      --disabled-bg-color: #3B4455;\n",
              "      --disabled-fill-color: #666;\n",
              "  }\n",
              "\n",
              "  .colab-df-quickchart {\n",
              "    background-color: var(--bg-color);\n",
              "    border: none;\n",
              "    border-radius: 50%;\n",
              "    cursor: pointer;\n",
              "    display: none;\n",
              "    fill: var(--fill-color);\n",
              "    height: 32px;\n",
              "    padding: 0;\n",
              "    width: 32px;\n",
              "  }\n",
              "\n",
              "  .colab-df-quickchart:hover {\n",
              "    background-color: var(--hover-bg-color);\n",
              "    box-shadow: 0 1px 2px rgba(60, 64, 67, 0.3), 0 1px 3px 1px rgba(60, 64, 67, 0.15);\n",
              "    fill: var(--button-hover-fill-color);\n",
              "  }\n",
              "\n",
              "  .colab-df-quickchart-complete:disabled,\n",
              "  .colab-df-quickchart-complete:disabled:hover {\n",
              "    background-color: var(--disabled-bg-color);\n",
              "    fill: var(--disabled-fill-color);\n",
              "    box-shadow: none;\n",
              "  }\n",
              "\n",
              "  .colab-df-spinner {\n",
              "    border: 2px solid var(--fill-color);\n",
              "    border-color: transparent;\n",
              "    border-bottom-color: var(--fill-color);\n",
              "    animation:\n",
              "      spin 1s steps(1) infinite;\n",
              "  }\n",
              "\n",
              "  @keyframes spin {\n",
              "    0% {\n",
              "      border-color: transparent;\n",
              "      border-bottom-color: var(--fill-color);\n",
              "      border-left-color: var(--fill-color);\n",
              "    }\n",
              "    20% {\n",
              "      border-color: transparent;\n",
              "      border-left-color: var(--fill-color);\n",
              "      border-top-color: var(--fill-color);\n",
              "    }\n",
              "    30% {\n",
              "      border-color: transparent;\n",
              "      border-left-color: var(--fill-color);\n",
              "      border-top-color: var(--fill-color);\n",
              "      border-right-color: var(--fill-color);\n",
              "    }\n",
              "    40% {\n",
              "      border-color: transparent;\n",
              "      border-right-color: var(--fill-color);\n",
              "      border-top-color: var(--fill-color);\n",
              "    }\n",
              "    60% {\n",
              "      border-color: transparent;\n",
              "      border-right-color: var(--fill-color);\n",
              "    }\n",
              "    80% {\n",
              "      border-color: transparent;\n",
              "      border-right-color: var(--fill-color);\n",
              "      border-bottom-color: var(--fill-color);\n",
              "    }\n",
              "    90% {\n",
              "      border-color: transparent;\n",
              "      border-bottom-color: var(--fill-color);\n",
              "    }\n",
              "  }\n",
              "</style>\n",
              "\n",
              "  <script>\n",
              "    async function quickchart(key) {\n",
              "      const quickchartButtonEl =\n",
              "        document.querySelector('#' + key + ' button');\n",
              "      quickchartButtonEl.disabled = true;  // To prevent multiple clicks.\n",
              "      quickchartButtonEl.classList.add('colab-df-spinner');\n",
              "      try {\n",
              "        const charts = await google.colab.kernel.invokeFunction(\n",
              "            'suggestCharts', [key], {});\n",
              "      } catch (error) {\n",
              "        console.error('Error during call to suggestCharts:', error);\n",
              "      }\n",
              "      quickchartButtonEl.classList.remove('colab-df-spinner');\n",
              "      quickchartButtonEl.classList.add('colab-df-quickchart-complete');\n",
              "    }\n",
              "    (() => {\n",
              "      let quickchartButtonEl =\n",
              "        document.querySelector('#df-0f046014-3fe9-4f25-bb1e-7b61e8450eaa button');\n",
              "      quickchartButtonEl.style.display =\n",
              "        google.colab.kernel.accessAllowed ? 'block' : 'none';\n",
              "    })();\n",
              "  </script>\n",
              "</div>\n",
              "\n",
              "    </div>\n",
              "  </div>\n"
            ],
            "application/vnd.google.colaboratory.intrinsic+json": {
              "type": "dataframe",
              "variable_name": "df",
              "summary": "{\n  \"name\": \"df\",\n  \"rows\": 100,\n  \"fields\": [\n    {\n      \"column\": \"sepal_length\",\n      \"properties\": {\n        \"dtype\": \"number\",\n        \"std\": 0.6628344400749671,\n        \"min\": 4.9,\n        \"max\": 7.9,\n        \"num_unique_values\": 28,\n        \"samples\": [\n          5.2,\n          7.7,\n          6.6\n        ],\n        \"semantic_type\": \"\",\n        \"description\": \"\"\n      }\n    },\n    {\n      \"column\": \"sepal_width\",\n      \"properties\": {\n        \"dtype\": \"number\",\n        \"std\": 0.3327510064946947,\n        \"min\": 2.0,\n        \"max\": 3.8,\n        \"num_unique_values\": 16,\n        \"samples\": [\n          3.2,\n          3.1,\n          2.4\n        ],\n        \"semantic_type\": \"\",\n        \"description\": \"\"\n      }\n    },\n    {\n      \"column\": \"petal_length\",\n      \"properties\": {\n        \"dtype\": \"number\",\n        \"std\": 0.8255784626428903,\n        \"min\": 3.0,\n        \"max\": 6.9,\n        \"num_unique_values\": 34,\n        \"samples\": [\n          3.8,\n          6.0,\n          5.5\n        ],\n        \"semantic_type\": \"\",\n        \"description\": \"\"\n      }\n    },\n    {\n      \"column\": \"petal_width\",\n      \"properties\": {\n        \"dtype\": \"number\",\n        \"std\": 0.42476850498628405,\n        \"min\": 1.0,\n        \"max\": 2.5,\n        \"num_unique_values\": 16,\n        \"samples\": [\n          1.4,\n          1.5,\n          1.1\n        ],\n        \"semantic_type\": \"\",\n        \"description\": \"\"\n      }\n    },\n    {\n      \"column\": \"class\",\n      \"properties\": {\n        \"dtype\": \"category\",\n        \"num_unique_values\": 2,\n        \"samples\": [\n          \"Iris-virginica\",\n          \"Iris-versicolor\"\n        ],\n        \"semantic_type\": \"\",\n        \"description\": \"\"\n      }\n    }\n  ]\n}"
            }
          },
          "metadata": {},
          "execution_count": 50
        }
      ]
    },
    {
      "cell_type": "code",
      "source": [
        "df['class'] = df['class'].apply(lambda x: 0 if x == 'Iris-versicolor' else 1)\n",
        "df['class']"
      ],
      "metadata": {
        "colab": {
          "base_uri": "https://localhost:8080/"
        },
        "id": "xQyM6bTc7KiZ",
        "outputId": "68d2d1e9-4030-4f5e-f306-fe38575f9ddf"
      },
      "execution_count": 51,
      "outputs": [
        {
          "output_type": "execute_result",
          "data": {
            "text/plain": [
              "50     0\n",
              "51     0\n",
              "52     0\n",
              "53     0\n",
              "54     0\n",
              "      ..\n",
              "145    1\n",
              "146    1\n",
              "147    1\n",
              "148    1\n",
              "149    1\n",
              "Name: class, Length: 100, dtype: int64"
            ]
          },
          "metadata": {},
          "execution_count": 51
        }
      ]
    },
    {
      "cell_type": "code",
      "source": [
        "df.tail()"
      ],
      "metadata": {
        "colab": {
          "base_uri": "https://localhost:8080/",
          "height": 206
        },
        "id": "zLgIGU7m7WG4",
        "outputId": "6a458b62-e511-406b-9c00-fdf4ee324a92"
      },
      "execution_count": 52,
      "outputs": [
        {
          "output_type": "execute_result",
          "data": {
            "text/plain": [
              "     sepal_length  sepal_width  petal_length  petal_width  class\n",
              "145           6.7          3.0           5.2          2.3      1\n",
              "146           6.3          2.5           5.0          1.9      1\n",
              "147           6.5          3.0           5.2          2.0      1\n",
              "148           6.2          3.4           5.4          2.3      1\n",
              "149           5.9          3.0           5.1          1.8      1"
            ],
            "text/html": [
              "\n",
              "  <div id=\"df-02c66ef7-7e7a-4438-b679-ca5a4beea402\" class=\"colab-df-container\">\n",
              "    <div>\n",
              "<style scoped>\n",
              "    .dataframe tbody tr th:only-of-type {\n",
              "        vertical-align: middle;\n",
              "    }\n",
              "\n",
              "    .dataframe tbody tr th {\n",
              "        vertical-align: top;\n",
              "    }\n",
              "\n",
              "    .dataframe thead th {\n",
              "        text-align: right;\n",
              "    }\n",
              "</style>\n",
              "<table border=\"1\" class=\"dataframe\">\n",
              "  <thead>\n",
              "    <tr style=\"text-align: right;\">\n",
              "      <th></th>\n",
              "      <th>sepal_length</th>\n",
              "      <th>sepal_width</th>\n",
              "      <th>petal_length</th>\n",
              "      <th>petal_width</th>\n",
              "      <th>class</th>\n",
              "    </tr>\n",
              "  </thead>\n",
              "  <tbody>\n",
              "    <tr>\n",
              "      <th>145</th>\n",
              "      <td>6.7</td>\n",
              "      <td>3.0</td>\n",
              "      <td>5.2</td>\n",
              "      <td>2.3</td>\n",
              "      <td>1</td>\n",
              "    </tr>\n",
              "    <tr>\n",
              "      <th>146</th>\n",
              "      <td>6.3</td>\n",
              "      <td>2.5</td>\n",
              "      <td>5.0</td>\n",
              "      <td>1.9</td>\n",
              "      <td>1</td>\n",
              "    </tr>\n",
              "    <tr>\n",
              "      <th>147</th>\n",
              "      <td>6.5</td>\n",
              "      <td>3.0</td>\n",
              "      <td>5.2</td>\n",
              "      <td>2.0</td>\n",
              "      <td>1</td>\n",
              "    </tr>\n",
              "    <tr>\n",
              "      <th>148</th>\n",
              "      <td>6.2</td>\n",
              "      <td>3.4</td>\n",
              "      <td>5.4</td>\n",
              "      <td>2.3</td>\n",
              "      <td>1</td>\n",
              "    </tr>\n",
              "    <tr>\n",
              "      <th>149</th>\n",
              "      <td>5.9</td>\n",
              "      <td>3.0</td>\n",
              "      <td>5.1</td>\n",
              "      <td>1.8</td>\n",
              "      <td>1</td>\n",
              "    </tr>\n",
              "  </tbody>\n",
              "</table>\n",
              "</div>\n",
              "    <div class=\"colab-df-buttons\">\n",
              "\n",
              "  <div class=\"colab-df-container\">\n",
              "    <button class=\"colab-df-convert\" onclick=\"convertToInteractive('df-02c66ef7-7e7a-4438-b679-ca5a4beea402')\"\n",
              "            title=\"Convert this dataframe to an interactive table.\"\n",
              "            style=\"display:none;\">\n",
              "\n",
              "  <svg xmlns=\"http://www.w3.org/2000/svg\" height=\"24px\" viewBox=\"0 -960 960 960\">\n",
              "    <path d=\"M120-120v-720h720v720H120Zm60-500h600v-160H180v160Zm220 220h160v-160H400v160Zm0 220h160v-160H400v160ZM180-400h160v-160H180v160Zm440 0h160v-160H620v160ZM180-180h160v-160H180v160Zm440 0h160v-160H620v160Z\"/>\n",
              "  </svg>\n",
              "    </button>\n",
              "\n",
              "  <style>\n",
              "    .colab-df-container {\n",
              "      display:flex;\n",
              "      gap: 12px;\n",
              "    }\n",
              "\n",
              "    .colab-df-convert {\n",
              "      background-color: #E8F0FE;\n",
              "      border: none;\n",
              "      border-radius: 50%;\n",
              "      cursor: pointer;\n",
              "      display: none;\n",
              "      fill: #1967D2;\n",
              "      height: 32px;\n",
              "      padding: 0 0 0 0;\n",
              "      width: 32px;\n",
              "    }\n",
              "\n",
              "    .colab-df-convert:hover {\n",
              "      background-color: #E2EBFA;\n",
              "      box-shadow: 0px 1px 2px rgba(60, 64, 67, 0.3), 0px 1px 3px 1px rgba(60, 64, 67, 0.15);\n",
              "      fill: #174EA6;\n",
              "    }\n",
              "\n",
              "    .colab-df-buttons div {\n",
              "      margin-bottom: 4px;\n",
              "    }\n",
              "\n",
              "    [theme=dark] .colab-df-convert {\n",
              "      background-color: #3B4455;\n",
              "      fill: #D2E3FC;\n",
              "    }\n",
              "\n",
              "    [theme=dark] .colab-df-convert:hover {\n",
              "      background-color: #434B5C;\n",
              "      box-shadow: 0px 1px 3px 1px rgba(0, 0, 0, 0.15);\n",
              "      filter: drop-shadow(0px 1px 2px rgba(0, 0, 0, 0.3));\n",
              "      fill: #FFFFFF;\n",
              "    }\n",
              "  </style>\n",
              "\n",
              "    <script>\n",
              "      const buttonEl =\n",
              "        document.querySelector('#df-02c66ef7-7e7a-4438-b679-ca5a4beea402 button.colab-df-convert');\n",
              "      buttonEl.style.display =\n",
              "        google.colab.kernel.accessAllowed ? 'block' : 'none';\n",
              "\n",
              "      async function convertToInteractive(key) {\n",
              "        const element = document.querySelector('#df-02c66ef7-7e7a-4438-b679-ca5a4beea402');\n",
              "        const dataTable =\n",
              "          await google.colab.kernel.invokeFunction('convertToInteractive',\n",
              "                                                    [key], {});\n",
              "        if (!dataTable) return;\n",
              "\n",
              "        const docLinkHtml = 'Like what you see? Visit the ' +\n",
              "          '<a target=\"_blank\" href=https://colab.research.google.com/notebooks/data_table.ipynb>data table notebook</a>'\n",
              "          + ' to learn more about interactive tables.';\n",
              "        element.innerHTML = '';\n",
              "        dataTable['output_type'] = 'display_data';\n",
              "        await google.colab.output.renderOutput(dataTable, element);\n",
              "        const docLink = document.createElement('div');\n",
              "        docLink.innerHTML = docLinkHtml;\n",
              "        element.appendChild(docLink);\n",
              "      }\n",
              "    </script>\n",
              "  </div>\n",
              "\n",
              "\n",
              "<div id=\"df-064f8fb7-363d-48f1-8099-203937684e7e\">\n",
              "  <button class=\"colab-df-quickchart\" onclick=\"quickchart('df-064f8fb7-363d-48f1-8099-203937684e7e')\"\n",
              "            title=\"Suggest charts\"\n",
              "            style=\"display:none;\">\n",
              "\n",
              "<svg xmlns=\"http://www.w3.org/2000/svg\" height=\"24px\"viewBox=\"0 0 24 24\"\n",
              "     width=\"24px\">\n",
              "    <g>\n",
              "        <path d=\"M19 3H5c-1.1 0-2 .9-2 2v14c0 1.1.9 2 2 2h14c1.1 0 2-.9 2-2V5c0-1.1-.9-2-2-2zM9 17H7v-7h2v7zm4 0h-2V7h2v10zm4 0h-2v-4h2v4z\"/>\n",
              "    </g>\n",
              "</svg>\n",
              "  </button>\n",
              "\n",
              "<style>\n",
              "  .colab-df-quickchart {\n",
              "      --bg-color: #E8F0FE;\n",
              "      --fill-color: #1967D2;\n",
              "      --hover-bg-color: #E2EBFA;\n",
              "      --hover-fill-color: #174EA6;\n",
              "      --disabled-fill-color: #AAA;\n",
              "      --disabled-bg-color: #DDD;\n",
              "  }\n",
              "\n",
              "  [theme=dark] .colab-df-quickchart {\n",
              "      --bg-color: #3B4455;\n",
              "      --fill-color: #D2E3FC;\n",
              "      --hover-bg-color: #434B5C;\n",
              "      --hover-fill-color: #FFFFFF;\n",
              "      --disabled-bg-color: #3B4455;\n",
              "      --disabled-fill-color: #666;\n",
              "  }\n",
              "\n",
              "  .colab-df-quickchart {\n",
              "    background-color: var(--bg-color);\n",
              "    border: none;\n",
              "    border-radius: 50%;\n",
              "    cursor: pointer;\n",
              "    display: none;\n",
              "    fill: var(--fill-color);\n",
              "    height: 32px;\n",
              "    padding: 0;\n",
              "    width: 32px;\n",
              "  }\n",
              "\n",
              "  .colab-df-quickchart:hover {\n",
              "    background-color: var(--hover-bg-color);\n",
              "    box-shadow: 0 1px 2px rgba(60, 64, 67, 0.3), 0 1px 3px 1px rgba(60, 64, 67, 0.15);\n",
              "    fill: var(--button-hover-fill-color);\n",
              "  }\n",
              "\n",
              "  .colab-df-quickchart-complete:disabled,\n",
              "  .colab-df-quickchart-complete:disabled:hover {\n",
              "    background-color: var(--disabled-bg-color);\n",
              "    fill: var(--disabled-fill-color);\n",
              "    box-shadow: none;\n",
              "  }\n",
              "\n",
              "  .colab-df-spinner {\n",
              "    border: 2px solid var(--fill-color);\n",
              "    border-color: transparent;\n",
              "    border-bottom-color: var(--fill-color);\n",
              "    animation:\n",
              "      spin 1s steps(1) infinite;\n",
              "  }\n",
              "\n",
              "  @keyframes spin {\n",
              "    0% {\n",
              "      border-color: transparent;\n",
              "      border-bottom-color: var(--fill-color);\n",
              "      border-left-color: var(--fill-color);\n",
              "    }\n",
              "    20% {\n",
              "      border-color: transparent;\n",
              "      border-left-color: var(--fill-color);\n",
              "      border-top-color: var(--fill-color);\n",
              "    }\n",
              "    30% {\n",
              "      border-color: transparent;\n",
              "      border-left-color: var(--fill-color);\n",
              "      border-top-color: var(--fill-color);\n",
              "      border-right-color: var(--fill-color);\n",
              "    }\n",
              "    40% {\n",
              "      border-color: transparent;\n",
              "      border-right-color: var(--fill-color);\n",
              "      border-top-color: var(--fill-color);\n",
              "    }\n",
              "    60% {\n",
              "      border-color: transparent;\n",
              "      border-right-color: var(--fill-color);\n",
              "    }\n",
              "    80% {\n",
              "      border-color: transparent;\n",
              "      border-right-color: var(--fill-color);\n",
              "      border-bottom-color: var(--fill-color);\n",
              "    }\n",
              "    90% {\n",
              "      border-color: transparent;\n",
              "      border-bottom-color: var(--fill-color);\n",
              "    }\n",
              "  }\n",
              "</style>\n",
              "\n",
              "  <script>\n",
              "    async function quickchart(key) {\n",
              "      const quickchartButtonEl =\n",
              "        document.querySelector('#' + key + ' button');\n",
              "      quickchartButtonEl.disabled = true;  // To prevent multiple clicks.\n",
              "      quickchartButtonEl.classList.add('colab-df-spinner');\n",
              "      try {\n",
              "        const charts = await google.colab.kernel.invokeFunction(\n",
              "            'suggestCharts', [key], {});\n",
              "      } catch (error) {\n",
              "        console.error('Error during call to suggestCharts:', error);\n",
              "      }\n",
              "      quickchartButtonEl.classList.remove('colab-df-spinner');\n",
              "      quickchartButtonEl.classList.add('colab-df-quickchart-complete');\n",
              "    }\n",
              "    (() => {\n",
              "      let quickchartButtonEl =\n",
              "        document.querySelector('#df-064f8fb7-363d-48f1-8099-203937684e7e button');\n",
              "      quickchartButtonEl.style.display =\n",
              "        google.colab.kernel.accessAllowed ? 'block' : 'none';\n",
              "    })();\n",
              "  </script>\n",
              "</div>\n",
              "\n",
              "    </div>\n",
              "  </div>\n"
            ],
            "application/vnd.google.colaboratory.intrinsic+json": {
              "type": "dataframe",
              "summary": "{\n  \"name\": \"df\",\n  \"rows\": 5,\n  \"fields\": [\n    {\n      \"column\": \"sepal_length\",\n      \"properties\": {\n        \"dtype\": \"number\",\n        \"std\": 0.30331501776206193,\n        \"min\": 5.9,\n        \"max\": 6.7,\n        \"num_unique_values\": 5,\n        \"samples\": [\n          6.3,\n          5.9,\n          6.5\n        ],\n        \"semantic_type\": \"\",\n        \"description\": \"\"\n      }\n    },\n    {\n      \"column\": \"sepal_width\",\n      \"properties\": {\n        \"dtype\": \"number\",\n        \"std\": 0.31937438845342625,\n        \"min\": 2.5,\n        \"max\": 3.4,\n        \"num_unique_values\": 3,\n        \"samples\": [\n          3.0,\n          2.5,\n          3.4\n        ],\n        \"semantic_type\": \"\",\n        \"description\": \"\"\n      }\n    },\n    {\n      \"column\": \"petal_length\",\n      \"properties\": {\n        \"dtype\": \"number\",\n        \"std\": 0.14832396974191348,\n        \"min\": 5.0,\n        \"max\": 5.4,\n        \"num_unique_values\": 4,\n        \"samples\": [\n          5.0,\n          5.1,\n          5.2\n        ],\n        \"semantic_type\": \"\",\n        \"description\": \"\"\n      }\n    },\n    {\n      \"column\": \"petal_width\",\n      \"properties\": {\n        \"dtype\": \"number\",\n        \"std\": 0.23021728866442667,\n        \"min\": 1.8,\n        \"max\": 2.3,\n        \"num_unique_values\": 4,\n        \"samples\": [\n          1.9,\n          1.8,\n          2.3\n        ],\n        \"semantic_type\": \"\",\n        \"description\": \"\"\n      }\n    },\n    {\n      \"column\": \"class\",\n      \"properties\": {\n        \"dtype\": \"number\",\n        \"std\": 0,\n        \"min\": 1,\n        \"max\": 1,\n        \"num_unique_values\": 1,\n        \"samples\": [\n          1\n        ],\n        \"semantic_type\": \"\",\n        \"description\": \"\"\n      }\n    }\n  ]\n}"
            }
          },
          "metadata": {},
          "execution_count": 52
        }
      ]
    },
    {
      "cell_type": "code",
      "source": [
        "# Assign features and target\n",
        "\n",
        "X = torch.tensor(df[['sepal_width', 'petal_length']].values, dtype=torch.float)\n",
        "y = torch.tensor(df['class'].values, dtype=torch.int)\n",
        "\n",
        "X.shape, y.shape"
      ],
      "metadata": {
        "colab": {
          "base_uri": "https://localhost:8080/"
        },
        "id": "hQgLu6hL7Ys-",
        "outputId": "52c18f01-d990-4b14-96af-a96a8505e3af"
      },
      "execution_count": 54,
      "outputs": [
        {
          "output_type": "execute_result",
          "data": {
            "text/plain": [
              "(torch.Size([100, 2]), torch.Size([100]))"
            ]
          },
          "metadata": {},
          "execution_count": 54
        }
      ]
    },
    {
      "cell_type": "code",
      "source": [
        "# Shuffling & train/test split\n",
        "torch.manual_seed(123)\n",
        "shuffle_idx = torch.randperm(y.size(0), dtype=torch.long)\n",
        "\n",
        "X, y = X[shuffle_idx], y[shuffle_idx]\n",
        "percent70 = int(shuffle_idx.size(0) * 0.7)\n",
        "\n",
        "X_train, X_test = X[shuffle_idx[:percent70]], X[shuffle_idx[percent70:]]\n",
        "y_train, y_test = y[shuffle_idx[:percent70]], y[shuffle_idx[percent70:]]\n",
        "\n",
        "\n",
        "# Normalize (mean zero, unit variance)\n",
        "mu, sigma = X_train.mean(dim=0), X_train.std(dim=0)\n",
        "X_train = (X_train - mu) / sigma\n",
        "X_test = (X_test - mu) / sigma\n",
        ""
      ],
      "metadata": {
        "id": "oNtLZ_bA7nCf"
      },
      "execution_count": 55,
      "outputs": []
    },
    {
      "cell_type": "code",
      "source": [
        "plt.scatter(X_train[y_train==0, 0], X_train[y_train==0, 1], label='Class 0')\n",
        "plt.scatter(X_train[y_train==1, 0], X_train[y_train==1, 1], label='Class 1')\n",
        "plt.legend()\n",
        "plt.show()"
      ],
      "metadata": {
        "colab": {
          "base_uri": "https://localhost:8080/",
          "height": 430
        },
        "id": "5_IIREtp834O",
        "outputId": "fc0b653d-bdba-4090-ab0a-db18bb5bb703"
      },
      "execution_count": 56,
      "outputs": [
        {
          "output_type": "display_data",
          "data": {
            "text/plain": [
              "<Figure size 640x480 with 1 Axes>"
            ],
            "image/png": "[encoded data removed]"
          },
          "metadata": {}
        }
      ]
    },
    {
      "cell_type": "code",
      "source": [
        "plt.scatter(X_test[y_test == 0, 0], X_test[y_test == 0, 1], label='class 0')\n",
        "plt.scatter(X_test[y_test == 1, 0], X_test[y_test == 1, 1], label='class 1')\n",
        "plt.legend()\n",
        "plt.show()"
      ],
      "metadata": {
        "colab": {
          "base_uri": "https://localhost:8080/",
          "height": 430
        },
        "id": "PCrxJePj9CU6",
        "outputId": "c22bfea7-81d8-4e8f-d518-deb1eda5d5a7"
      },
      "execution_count": 57,
      "outputs": [
        {
          "output_type": "display_data",
          "data": {
            "text/plain": [
              "<Figure size 640x480 with 1 Axes>"
            ],
            "image/png": "[encoded data removed]"
          },
          "metadata": {}
        }
      ]
    },
    {
      "cell_type": "code",
      "source": [
        "class Adaline1():\n",
        "    def __init__(self, num_features):\n",
        "        self.num_features = num_features\n",
        "        self.weights = torch.zeros(num_features, 1,\n",
        "                                   dtype=torch.float)\n",
        "        self.bias = torch.zeros(1, dtype=torch.float)\n",
        "\n",
        "    def forward(self, x):\n",
        "        netinputs = torch.add(torch.mm(x, self.weights), self.bias)\n",
        "        activations = netinputs\n",
        "        return activations.view(-1)\n",
        "\n",
        "    def backward(self, x, yhat, y):\n",
        "\n",
        "        grad_loss_yhat = 2*(yhat - y)\n",
        "\n",
        "        grad_yhat_weights = x\n",
        "        grad_yhat_bias = 1.\n",
        "\n",
        "        # Chain rule: inner times outer\n",
        "        grad_loss_weights = torch.mm(grad_yhat_weights.t(),\n",
        "                                         grad_loss_yhat.view(-1, 1)) / y.size(0)\n",
        "\n",
        "        grad_loss_bias = torch.sum(grad_yhat_bias*grad_loss_yhat) / y.size(0)\n",
        "\n",
        "        # return negative gradient\n",
        "        return (-1)*grad_loss_weights, (-1)*grad_loss_bias"
      ],
      "metadata": {
        "id": "cpdpnrPn9GVY"
      },
      "execution_count": 58,
      "outputs": []
    },
    {
      "cell_type": "code",
      "source": [
        "def loss(yhat, y):\n",
        "  return torch.mean((yhat - y)**2)\n",
        "\n",
        "\n",
        "def train(model, x, y, num_epochs, learning_rate=0.01, seed=123, minibatch_size=None):\n",
        "  cost = []\n",
        "\n",
        "  torch.manual_seed(seed)\n",
        "  for e in range(num_epochs):\n",
        "\n",
        "    ## Shuffle epoch\n",
        "    shuffle_idx = torch.randperm(y.size(0), dtype=torch.long)\n",
        "    minibatches = torch.split(shuffle_idx, minibatch_size)\n",
        "\n",
        "    for minibatch_idx in minibatches:\n",
        "      ### Compute outputs\n",
        "      yhat = model.forward(x[minibatch_idx])\n",
        "\n",
        "      ### Compute gradients\n",
        "      negative_grad_w, negative_grad_b = model.backward(x[minibatch_idx], yhat, y[minibatch_idx])\n",
        "\n",
        "      ## Update weights\n",
        "      model.weights += learning_rate * negative_grad_w\n",
        "      model.bias += learning_rate * negative_grad_b\n",
        "\n",
        "      ## Logging\n",
        "      minibatch_loss = loss(yhat, y[minibatch_idx])\n",
        "      print(f'   Minibatch MSE: {minibatch_loss:.3f}')\n",
        "\n",
        "    ### Logging\n",
        "    yhat = model.forward(x)\n",
        "    curr_loss = loss(yhat, y)\n",
        "    print(f\"Epoch: {e+1:03d} | MSE: {curr_loss:.5f}\")\n",
        "    cost.append(curr_loss)\n",
        "\n",
        "  return cost"
      ],
      "metadata": {
        "id": "m5GEwMCf9w-z"
      },
      "execution_count": 59,
      "outputs": []
    },
    {
      "cell_type": "code",
      "source": [
        "model = Adaline1(num_features=X_train.size(1))\n",
        "\n",
        "cost = train(model,\n",
        "             X_train,\n",
        "             y_train,\n",
        "             num_epochs=20,\n",
        "             learning_rate=0.1,\n",
        "             seed=123,\n",
        "             minibatch_size=10)"
      ],
      "metadata": {
        "colab": {
          "base_uri": "https://localhost:8080/"
        },
        "id": "5eDXI45M-z0s",
        "outputId": "2d5d904e-da95-47e3-81ea-c9292462ac82"
      },
      "execution_count": 60,
      "outputs": [
        {
          "output_type": "stream",
          "name": "stdout",
          "text": [
            "   Minibatch MSE: 0.500\n",
            "   Minibatch MSE: 0.341\n",
            "   Minibatch MSE: 0.220\n",
            "   Minibatch MSE: 0.245\n",
            "   Minibatch MSE: 0.157\n",
            "   Minibatch MSE: 0.133\n",
            "   Minibatch MSE: 0.144\n",
            "Epoch: 001 | MSE: 0.12142\n",
            "   Minibatch MSE: 0.107\n",
            "   Minibatch MSE: 0.147\n",
            "   Minibatch MSE: 0.064\n",
            "   Minibatch MSE: 0.079\n",
            "   Minibatch MSE: 0.185\n",
            "   Minibatch MSE: 0.063\n",
            "   Minibatch MSE: 0.135\n",
            "Epoch: 002 | MSE: 0.09932\n",
            "   Minibatch MSE: 0.093\n",
            "   Minibatch MSE: 0.064\n",
            "   Minibatch MSE: 0.128\n",
            "   Minibatch MSE: 0.099\n",
            "   Minibatch MSE: 0.079\n",
            "   Minibatch MSE: 0.157\n",
            "   Minibatch MSE: 0.080\n",
            "Epoch: 003 | MSE: 0.09693\n",
            "   Minibatch MSE: 0.131\n",
            "   Minibatch MSE: 0.146\n",
            "   Minibatch MSE: 0.050\n",
            "   Minibatch MSE: 0.095\n",
            "   Minibatch MSE: 0.106\n",
            "   Minibatch MSE: 0.072\n",
            "   Minibatch MSE: 0.102\n",
            "Epoch: 004 | MSE: 0.09658\n",
            "   Minibatch MSE: 0.107\n",
            "   Minibatch MSE: 0.204\n",
            "   Minibatch MSE: 0.149\n",
            "   Minibatch MSE: 0.054\n",
            "   Minibatch MSE: 0.060\n",
            "   Minibatch MSE: 0.056\n",
            "   Minibatch MSE: 0.069\n",
            "Epoch: 005 | MSE: 0.09657\n",
            "   Minibatch MSE: 0.068\n",
            "   Minibatch MSE: 0.111\n",
            "   Minibatch MSE: 0.092\n",
            "   Minibatch MSE: 0.115\n",
            "   Minibatch MSE: 0.157\n",
            "   Minibatch MSE: 0.074\n",
            "   Minibatch MSE: 0.087\n",
            "Epoch: 006 | MSE: 0.09650\n",
            "   Minibatch MSE: 0.057\n",
            "   Minibatch MSE: 0.070\n",
            "   Minibatch MSE: 0.133\n",
            "   Minibatch MSE: 0.127\n",
            "   Minibatch MSE: 0.062\n",
            "   Minibatch MSE: 0.153\n",
            "   Minibatch MSE: 0.103\n",
            "Epoch: 007 | MSE: 0.09683\n",
            "   Minibatch MSE: 0.102\n",
            "   Minibatch MSE: 0.110\n",
            "   Minibatch MSE: 0.101\n",
            "   Minibatch MSE: 0.065\n",
            "   Minibatch MSE: 0.126\n",
            "   Minibatch MSE: 0.124\n",
            "   Minibatch MSE: 0.076\n",
            "Epoch: 008 | MSE: 0.09648\n",
            "   Minibatch MSE: 0.120\n",
            "   Minibatch MSE: 0.056\n",
            "   Minibatch MSE: 0.100\n",
            "   Minibatch MSE: 0.102\n",
            "   Minibatch MSE: 0.106\n",
            "   Minibatch MSE: 0.075\n",
            "   Minibatch MSE: 0.144\n",
            "Epoch: 009 | MSE: 0.09740\n",
            "   Minibatch MSE: 0.073\n",
            "   Minibatch MSE: 0.071\n",
            "   Minibatch MSE: 0.084\n",
            "   Minibatch MSE: 0.152\n",
            "   Minibatch MSE: 0.099\n",
            "   Minibatch MSE: 0.108\n",
            "   Minibatch MSE: 0.118\n",
            "Epoch: 010 | MSE: 0.09636\n",
            "   Minibatch MSE: 0.058\n",
            "   Minibatch MSE: 0.070\n",
            "   Minibatch MSE: 0.145\n",
            "   Minibatch MSE: 0.081\n",
            "   Minibatch MSE: 0.093\n",
            "   Minibatch MSE: 0.127\n",
            "   Minibatch MSE: 0.115\n",
            "Epoch: 011 | MSE: 0.09638\n",
            "   Minibatch MSE: 0.123\n",
            "   Minibatch MSE: 0.091\n",
            "   Minibatch MSE: 0.085\n",
            "   Minibatch MSE: 0.093\n",
            "   Minibatch MSE: 0.091\n",
            "   Minibatch MSE: 0.143\n",
            "   Minibatch MSE: 0.081\n",
            "Epoch: 012 | MSE: 0.09718\n",
            "   Minibatch MSE: 0.096\n",
            "   Minibatch MSE: 0.076\n",
            "   Minibatch MSE: 0.149\n",
            "   Minibatch MSE: 0.092\n",
            "   Minibatch MSE: 0.116\n",
            "   Minibatch MSE: 0.093\n",
            "   Minibatch MSE: 0.091\n",
            "Epoch: 013 | MSE: 0.09638\n",
            "   Minibatch MSE: 0.095\n",
            "   Minibatch MSE: 0.104\n",
            "   Minibatch MSE: 0.107\n",
            "   Minibatch MSE: 0.120\n",
            "   Minibatch MSE: 0.102\n",
            "   Minibatch MSE: 0.045\n",
            "   Minibatch MSE: 0.124\n",
            "Epoch: 014 | MSE: 0.09685\n",
            "   Minibatch MSE: 0.121\n",
            "   Minibatch MSE: 0.051\n",
            "   Minibatch MSE: 0.095\n",
            "   Minibatch MSE: 0.122\n",
            "   Minibatch MSE: 0.030\n",
            "   Minibatch MSE: 0.158\n",
            "   Minibatch MSE: 0.121\n",
            "Epoch: 015 | MSE: 0.09745\n",
            "   Minibatch MSE: 0.080\n",
            "   Minibatch MSE: 0.119\n",
            "   Minibatch MSE: 0.091\n",
            "   Minibatch MSE: 0.095\n",
            "   Minibatch MSE: 0.044\n",
            "   Minibatch MSE: 0.092\n",
            "   Minibatch MSE: 0.180\n",
            "Epoch: 016 | MSE: 0.09693\n",
            "   Minibatch MSE: 0.054\n",
            "   Minibatch MSE: 0.075\n",
            "   Minibatch MSE: 0.184\n",
            "   Minibatch MSE: 0.105\n",
            "   Minibatch MSE: 0.121\n",
            "   Minibatch MSE: 0.066\n",
            "   Minibatch MSE: 0.096\n",
            "Epoch: 017 | MSE: 0.09699\n",
            "   Minibatch MSE: 0.076\n",
            "   Minibatch MSE: 0.050\n",
            "   Minibatch MSE: 0.198\n",
            "   Minibatch MSE: 0.105\n",
            "   Minibatch MSE: 0.054\n",
            "   Minibatch MSE: 0.136\n",
            "   Minibatch MSE: 0.099\n",
            "Epoch: 018 | MSE: 0.09672\n",
            "   Minibatch MSE: 0.158\n",
            "   Minibatch MSE: 0.099\n",
            "   Minibatch MSE: 0.087\n",
            "   Minibatch MSE: 0.070\n",
            "   Minibatch MSE: 0.103\n",
            "   Minibatch MSE: 0.112\n",
            "   Minibatch MSE: 0.081\n",
            "Epoch: 019 | MSE: 0.09638\n",
            "   Minibatch MSE: 0.095\n",
            "   Minibatch MSE: 0.093\n",
            "   Minibatch MSE: 0.111\n",
            "   Minibatch MSE: 0.147\n",
            "   Minibatch MSE: 0.083\n",
            "   Minibatch MSE: 0.102\n",
            "   Minibatch MSE: 0.065\n",
            "Epoch: 020 | MSE: 0.09635\n"
          ]
        }
      ]
    },
    {
      "cell_type": "code",
      "source": [
        "plt.plot(range(len(cost)), cost)\n",
        "plt.ylabel('Mean Squared Error')\n",
        "plt.xlabel('Epoch')\n",
        "plt.show()"
      ],
      "metadata": {
        "colab": {
          "base_uri": "https://localhost:8080/",
          "height": 449
        },
        "id": "Vjw_gD97_DP6",
        "outputId": "167defd6-62cc-4957-9c27-d113587f1aaa"
      },
      "execution_count": 61,
      "outputs": [
        {
          "output_type": "display_data",
          "data": {
            "text/plain": [
              "<Figure size 640x480 with 1 Axes>"
            ],
            "image/png": "[encoded data removed]"
          },
          "metadata": {}
        }
      ]
    },
    {
      "cell_type": "code",
      "source": [
        "print('Weights', model.weights)\n",
        "print('Bias', model.bias)"
      ],
      "metadata": {
        "colab": {
          "base_uri": "https://localhost:8080/"
        },
        "id": "EKr7wlx5_MIg",
        "outputId": "36b1a771-c012-49a9-bc69-bacdeade3cd1"
      },
      "execution_count": 62,
      "outputs": [
        {
          "output_type": "stream",
          "name": "stdout",
          "text": [
            "Weights tensor([[-0.0763],\n",
            "        [ 0.4181]])\n",
            "Bias tensor([0.4888])\n"
          ]
        }
      ]
    },
    {
      "cell_type": "code",
      "source": [
        "def analytical_solution(x, y):\n",
        "    Xb = torch.cat( (torch.ones((x.size(0), 1)), x), dim=1)\n",
        "    w = torch.zeros(x.size(1))\n",
        "    z = torch.inverse(torch.matmul(Xb.t(), Xb))\n",
        "    params = torch.matmul(z, torch.matmul(Xb.t(), y))\n",
        "    b, w = torch.tensor([params[0]]), params[1:].view(x.size(1), 1)\n",
        "    return w, b\n",
        "\n",
        "w, b = analytical_solution(X_train, y_train.float())\n",
        "print('Analytical weights', w)\n",
        "print('Analytical bias', b)"
      ],
      "metadata": {
        "colab": {
          "base_uri": "https://localhost:8080/"
        },
        "id": "fqYl-LXQ_Qhm",
        "outputId": "de233554-cdfd-4a28-a073-9e23acb403a3"
      },
      "execution_count": 63,
      "outputs": [
        {
          "output_type": "stream",
          "name": "stdout",
          "text": [
            "Analytical weights tensor([[-0.0703],\n",
            "        [ 0.4219]])\n",
            "Analytical bias tensor([0.4857])\n"
          ]
        }
      ]
    },
    {
      "cell_type": "markdown",
      "source": [
        "## Evaluate on Evaluation Metric (Prediction Accuracy)"
      ],
      "metadata": {
        "id": "KA5r9NK1_Wvl"
      }
    },
    {
      "cell_type": "code",
      "source": [
        "ones = torch.ones(y_train.size())\n",
        "ones"
      ],
      "metadata": {
        "colab": {
          "base_uri": "https://localhost:8080/"
        },
        "id": "UymE2xrI_WWU",
        "outputId": "b827fd96-5636-461a-a740-2ecc6ae13261"
      },
      "execution_count": 64,
      "outputs": [
        {
          "output_type": "execute_result",
          "data": {
            "text/plain": [
              "tensor([1., 1., 1., 1., 1., 1., 1., 1., 1., 1., 1., 1., 1., 1., 1., 1., 1., 1.,\n",
              "        1., 1., 1., 1., 1., 1., 1., 1., 1., 1., 1., 1., 1., 1., 1., 1., 1., 1.,\n",
              "        1., 1., 1., 1., 1., 1., 1., 1., 1., 1., 1., 1., 1., 1., 1., 1., 1., 1.,\n",
              "        1., 1., 1., 1., 1., 1., 1., 1., 1., 1., 1., 1., 1., 1., 1., 1.])"
            ]
          },
          "metadata": {},
          "execution_count": 64
        }
      ]
    },
    {
      "cell_type": "code",
      "source": [
        "zeros = torch.zeros(y_train.size())\n",
        "zeros"
      ],
      "metadata": {
        "colab": {
          "base_uri": "https://localhost:8080/"
        },
        "id": "fJhcEizO_S7D",
        "outputId": "263edd55-4625-467f-91b3-2a6817b3c029"
      },
      "execution_count": 65,
      "outputs": [
        {
          "output_type": "execute_result",
          "data": {
            "text/plain": [
              "tensor([0., 0., 0., 0., 0., 0., 0., 0., 0., 0., 0., 0., 0., 0., 0., 0., 0., 0., 0., 0., 0., 0., 0., 0.,\n",
              "        0., 0., 0., 0., 0., 0., 0., 0., 0., 0., 0., 0., 0., 0., 0., 0., 0., 0., 0., 0., 0., 0., 0., 0.,\n",
              "        0., 0., 0., 0., 0., 0., 0., 0., 0., 0., 0., 0., 0., 0., 0., 0., 0., 0., 0., 0., 0., 0.])"
            ]
          },
          "metadata": {},
          "execution_count": 65
        }
      ]
    },
    {
      "cell_type": "code",
      "source": [
        "train_pred = model.forward(X_train)\n",
        "train_acc = torch.mean(\n",
        "    (torch.where(train_pred > 0.5, ones, zeros).int() == y_train).float()\n",
        ")\n",
        "\n",
        "train_acc"
      ],
      "metadata": {
        "colab": {
          "base_uri": "https://localhost:8080/"
        },
        "id": "H3mbW0OW_hwZ",
        "outputId": "f30e9ccf-e6b9-463f-d635-4294edb06e14"
      },
      "execution_count": 66,
      "outputs": [
        {
          "output_type": "execute_result",
          "data": {
            "text/plain": [
              "tensor(0.9000)"
            ]
          },
          "metadata": {},
          "execution_count": 66
        }
      ]
    },
    {
      "cell_type": "code",
      "source": [
        "ones = torch.ones(y_test.size())\n",
        "zeros = torch.zeros(y_test.size())\n",
        "test_pred = model.forward(X_test)\n",
        "test_acc = torch.mean(\n",
        "    (torch.where(test_pred > 0.5,\n",
        "                 ones,\n",
        "                 zeros).int() == y_test).float())\n",
        "\n",
        "print('Training Accuracy: %.2f' % (train_acc*100))\n",
        "print('Test Accuracy: %.2f' % (test_acc*100))"
      ],
      "metadata": {
        "colab": {
          "base_uri": "https://localhost:8080/"
        },
        "id": "MLQcqCpm_zP6",
        "outputId": "fc151382-33ce-4b1d-db0a-7041795ea7b5"
      },
      "execution_count": 67,
      "outputs": [
        {
          "output_type": "stream",
          "name": "stdout",
          "text": [
            "Training Accuracy: 90.00\n",
            "Test Accuracy: 96.67\n"
          ]
        }
      ]
    },
    {
      "cell_type": "code",
      "source": [
        "## Decision Boundary"
      ],
      "metadata": {
        "id": "dP7xQACH_66v"
      },
      "execution_count": 68,
      "outputs": []
    },
    {
      "cell_type": "code",
      "source": [
        "w, b = model.weights, model.bias - 0.5"
      ],
      "metadata": {
        "id": "4JRY_yZZ_4Du"
      },
      "execution_count": 69,
      "outputs": []
    },
    {
      "cell_type": "code",
      "source": [
        "x_min = -3\n",
        "y_min =  (-(w[0] * x_min) - b[0]) / w[1]\n",
        "\n",
        "x_max = 3\n",
        "y_max =  (-(w[0] * x_max) - b[0]) / w[1]\n",
        "\n",
        "x_min, y_min, x_max, y_max"
      ],
      "metadata": {
        "colab": {
          "base_uri": "https://localhost:8080/"
        },
        "id": "bg-XTGAe__qs",
        "outputId": "67a3ec79-88f2-4a79-98c7-d0052d7b7c8c"
      },
      "execution_count": 70,
      "outputs": [
        {
          "output_type": "execute_result",
          "data": {
            "text/plain": [
              "(-3, tensor([-0.5203]), 3, tensor([0.5738]))"
            ]
          },
          "metadata": {},
          "execution_count": 70
        }
      ]
    },
    {
      "cell_type": "code",
      "source": [
        "fig, ax = plt.subplots(1, 2, sharex=True, figsize=(7, 3))\n",
        "\n",
        "ax[0].plot([x_min, x_max], [y_min, y_max])\n",
        "ax[1].plot([x_min, x_max], [y_min, y_max])\n",
        "\n",
        "ax[0].scatter(X_train[y_train==0, 0], X_train[y_train==0, 1], label='Class 0', marker='o')\n",
        "ax[0].scatter(X_train[y_train==1, 0], X_train[y_train==1, 1], label='Class 1', marker='s')\n",
        "\n",
        "ax[1].scatter(X_test[y_test==0, 0], X_test[y_test==0, 1], label='class 0', marker='o')\n",
        "ax[1].scatter(X_test[y_test==1, 0], X_test[y_test==1, 1], label='class 1', marker='s')\n",
        "\n",
        "ax[1].legend(loc='upper left')\n",
        "plt.show()\n"
      ],
      "metadata": {
        "colab": {
          "base_uri": "https://localhost:8080/",
          "height": 291
        },
        "id": "bLjkuPKQAQI2",
        "outputId": "0166bc17-0fbe-4ef8-d037-05f4e49e1d4d"
      },
      "execution_count": 72,
      "outputs": [
        {
          "output_type": "display_data",
          "data": {
            "text/plain": [
              "<Figure size 700x300 with 2 Axes>"
            ],
            "image/png": "[encoded data removed]"
          },
          "metadata": {}
        }
      ]
    },
    {
      "cell_type": "code",
      "source": [],
      "metadata": {
        "id": "c_8fFqSBAr3H"
      },
      "execution_count": null,
      "outputs": []
    }
  ]
}